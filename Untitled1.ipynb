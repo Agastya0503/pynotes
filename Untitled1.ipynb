{
 "cells": [
  {
   "cell_type": "code",
   "execution_count": null,
   "id": "38f15691-0a15-46ac-8996-04786869a448",
   "metadata": {},
   "outputs": [],
   "source": [
    "21072025"
   ]
  },
  {
   "cell_type": "code",
   "execution_count": 1,
   "id": "f0ca1dca-1ce4-4434-90e6-a9bc72e83d38",
   "metadata": {},
   "outputs": [
    {
     "name": "stdin",
     "output_type": "stream",
     "text": [
      "enter your email: aku05.com\n"
     ]
    },
    {
     "name": "stdout",
     "output_type": "stream",
     "text": [
      "Invalid email format\n"
     ]
    }
   ],
   "source": [
    "email = input(\"enter your email:\")\n",
    "\n",
    "if \"@\" in email and \".\" in email and email.index('@') < email.rindex('.'):\n",
    "    print(\"Valid email format\")\n",
    "else:\n",
    "    print(\"Invalid email format\")"
   ]
  },
  {
   "cell_type": "code",
   "execution_count": null,
   "id": "d509e34c-ab97-4783-ad3a-95d1808616d9",
   "metadata": {},
   "outputs": [],
   "source": []
  }
 ],
 "metadata": {
  "kernelspec": {
   "display_name": "Python [conda env:base] *",
   "language": "python",
   "name": "conda-base-py"
  },
  "language_info": {
   "codemirror_mode": {
    "name": "ipython",
    "version": 3
   },
   "file_extension": ".py",
   "mimetype": "text/x-python",
   "name": "python",
   "nbconvert_exporter": "python",
   "pygments_lexer": "ipython3",
   "version": "3.13.5"
  }
 },
 "nbformat": 4,
 "nbformat_minor": 5
}
