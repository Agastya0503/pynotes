{
 "cells": [
  {
   "cell_type": "code",
   "execution_count": null,
   "id": "3c54f992-9268-48bf-a02d-976e876b00ee",
   "metadata": {},
   "outputs": [],
   "source": [
    "#21072025"
   ]
  },
  {
   "cell_type": "code",
   "execution_count": 4,
   "id": "c46f7f1d-2261-47fc-8a40-174cdcd8beb3",
   "metadata": {},
   "outputs": [
    {
     "name": "stdin",
     "output_type": "stream",
     "text": [
      "enter a number:  5\n"
     ]
    },
    {
     "name": "stdout",
     "output_type": "stream",
     "text": [
      "factorial: 120\n"
     ]
    }
   ],
   "source": [
    "num = int(input(\"enter a number: \"))\n",
    "factorial = 1\n",
    "for i in range(num, 1, -1):\n",
    "    factorial = factorial * i\n",
    "print(\"factorial:\",factorial)"
   ]
  },
  {
   "cell_type": "code",
   "execution_count": null,
   "id": "65db6606-f717-4a89-ae00-569e96f71001",
   "metadata": {},
   "outputs": [],
   "source": []
  }
 ],
 "metadata": {
  "kernelspec": {
   "display_name": "Python [conda env:base] *",
   "language": "python",
   "name": "conda-base-py"
  },
  "language_info": {
   "codemirror_mode": {
    "name": "ipython",
    "version": 3
   },
   "file_extension": ".py",
   "mimetype": "text/x-python",
   "name": "python",
   "nbconvert_exporter": "python",
   "pygments_lexer": "ipython3",
   "version": "3.13.5"
  }
 },
 "nbformat": 4,
 "nbformat_minor": 5
}
