{
 "cells": [
  {
   "cell_type": "code",
   "execution_count": null,
   "id": "4b6356ce-60ed-44fd-891c-3a04b50c7630",
   "metadata": {},
   "outputs": [],
   "source": [
    "#2107/2025"
   ]
  },
  {
   "cell_type": "code",
   "execution_count": 1,
   "id": "cd1c8493-5eca-44e2-aac1-804db9dace11",
   "metadata": {},
   "outputs": [
    {
     "name": "stdout",
     "output_type": "stream",
     "text": [
      "1 plus 2 equals 3\n",
      "3 plus 4 equals 7\n",
      "4 plus 5 equals 9\n"
     ]
    }
   ],
   "source": [
    "x = [(1,2),(3,4),(4,5)]\n",
    "for a,b in x: \n",
    "    print(a, \"plus\", b, \"equals\" , a+b) "
   ]
  },
  {
   "cell_type": "code",
   "execution_count": null,
   "id": "13f4b02a-7e1b-48a4-8748-b39dc26814a1",
   "metadata": {},
   "outputs": [],
   "source": []
  }
 ],
 "metadata": {
  "kernelspec": {
   "display_name": "Python [conda env:base] *",
   "language": "python",
   "name": "conda-base-py"
  },
  "language_info": {
   "codemirror_mode": {
    "name": "ipython",
    "version": 3
   },
   "file_extension": ".py",
   "mimetype": "text/x-python",
   "name": "python",
   "nbconvert_exporter": "python",
   "pygments_lexer": "ipython3",
   "version": "3.13.5"
  }
 },
 "nbformat": 4,
 "nbformat_minor": 5
}
