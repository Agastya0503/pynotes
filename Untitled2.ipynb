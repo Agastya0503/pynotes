{
 "cells": [
  {
   "cell_type": "code",
   "execution_count": null,
   "id": "8edec99d-717b-494a-a073-ee46466cb6bb",
   "metadata": {},
   "outputs": [],
   "source": [
    "#21072025"
   ]
  },
  {
   "cell_type": "code",
   "execution_count": 2,
   "id": "55f39f7b-262b-4bd1-93c4-8d10179ec115",
   "metadata": {},
   "outputs": [
    {
     "name": "stdout",
     "output_type": "stream",
     "text": [
      "sum: 10\n",
      "sum: 30\n",
      "sum: 60\n",
      "sum: 100\n"
     ]
    }
   ],
   "source": [
    "numbers = [10,20,30,40]\n",
    "total = 0\n",
    "for i in numbers:\n",
    "    total = total + i\n",
    "    print(\"sum:\",total)"
   ]
  },
  {
   "cell_type": "code",
   "execution_count": null,
   "id": "79e0f423-34af-4aa0-90c4-379626b9b528",
   "metadata": {},
   "outputs": [],
   "source": []
  }
 ],
 "metadata": {
  "kernelspec": {
   "display_name": "Python [conda env:base] *",
   "language": "python",
   "name": "conda-base-py"
  },
  "language_info": {
   "codemirror_mode": {
    "name": "ipython",
    "version": 3
   },
   "file_extension": ".py",
   "mimetype": "text/x-python",
   "name": "python",
   "nbconvert_exporter": "python",
   "pygments_lexer": "ipython3",
   "version": "3.13.5"
  }
 },
 "nbformat": 4,
 "nbformat_minor": 5
}
