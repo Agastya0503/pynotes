{
 "cells": [
  {
   "cell_type": "code",
   "execution_count": null,
   "id": "4079f878-21d0-4e7a-b2c3-008e7e270bd9",
   "metadata": {},
   "outputs": [],
   "source": [
    "#21072025"
   ]
  },
  {
   "cell_type": "code",
   "execution_count": 1,
   "id": "6830925a-c9bc-4b57-86a0-1734ce05e91e",
   "metadata": {},
   "outputs": [
    {
     "name": "stdin",
     "output_type": "stream",
     "text": [
      "enter a numbre 5\n"
     ]
    },
    {
     "name": "stdout",
     "output_type": "stream",
     "text": [
      "number is not divisible by 3 and 5\n"
     ]
    }
   ],
   "source": [
    "num = int(input(\"enter a numbre\"))\n",
    "if num%3 == 0 and num%5 == 0:\n",
    "    print(\"number is divisible by 3 and 5\")\n",
    "else:\n",
    "    print(\"number is not divisible by 3 and 5\")"
   ]
  },
  {
   "cell_type": "code",
   "execution_count": null,
   "id": "a64d41f7-4aef-418d-8872-9fd38fa96c90",
   "metadata": {},
   "outputs": [],
   "source": []
  }
 ],
 "metadata": {
  "kernelspec": {
   "display_name": "Python [conda env:base] *",
   "language": "python",
   "name": "conda-base-py"
  },
  "language_info": {
   "codemirror_mode": {
    "name": "ipython",
    "version": 3
   },
   "file_extension": ".py",
   "mimetype": "text/x-python",
   "name": "python",
   "nbconvert_exporter": "python",
   "pygments_lexer": "ipython3",
   "version": "3.13.5"
  }
 },
 "nbformat": 4,
 "nbformat_minor": 5
}
