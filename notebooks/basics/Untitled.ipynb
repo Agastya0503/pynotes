{
 "cells": [
  {
   "cell_type": "code",
   "execution_count": null,
   "id": "c62c8eab-62d1-44c5-8a01-b9ff163d3956",
   "metadata": {},
   "outputs": [],
   "source": [
    "#21072025"
   ]
  },
  {
   "cell_type": "code",
   "execution_count": null,
   "id": "bbabb9b3-5e58-4fd0-9a7a-b9b9ee20a1bf",
   "metadata": {},
   "outputs": [],
   "source": [
    "import os\n",
    "TASKS_FILE = \"tasks.txt\""
   ]
  },
  {
   "cell_type": "code",
   "execution_count": null,
   "id": "95b8d13a-cb1d-4fae-9e80-706555060b40",
   "metadata": {},
   "outputs": [],
   "source": [
    "def load_tasks():\n",
    "    print(\"Loading tasks from file...\")"
   ]
  },
  {
   "cell_type": "code",
   "execution_count": null,
   "id": "0eae4fd9-9c20-4fd2-a8fb-7ad54a51c404",
   "metadata": {},
   "outputs": [],
   "source": [
    "tasks = []\n",
    "    if os.path.exists(TASKS_FILE):\n",
    "        with open(TASKS_FILE, 'r') as f:\n",
    "            lines = f.readlines()\n",
    "            for line in lines:"
   ]
  },
  {
   "cell_type": "code",
   "execution_count": null,
   "id": "2dc23acb-0bf4-4ce0-9700-a0d60b5652c9",
   "metadata": {},
   "outputs": [],
   "source": [
    "status, task = line.strip().split(\"||\")\n",
    "                tasks.append({\"task\": task, \"done\": status == \"1\"})"
   ]
  },
  {
   "cell_type": "code",
   "execution_count": null,
   "id": "e259ca15-06a0-48ff-93f4-15bc044c905b",
   "metadata": {},
   "outputs": [],
   "source": [
    "print(f\"Loaded {len(tasks)} tasks.\")"
   ]
  },
  {
   "cell_type": "code",
   "execution_count": null,
   "id": "aad0b45b-ed04-4c9b-b104-69b3a19fee1b",
   "metadata": {},
   "outputs": [],
   "source": [
    " else:\n",
    "        print(\"No existing task file found. Starting with an empty task list.\")\n",
    "    return tasks"
   ]
  },
  {
   "cell_type": "code",
   "execution_count": null,
   "id": "6353b8f4-b3e6-4246-be28-ed22159b4c18",
   "metadata": {},
   "outputs": [],
   "source": [
    "def save_tasks(tasks):\n",
    "    print(\"Saving tasks to file...\")"
   ]
  },
  {
   "cell_type": "code",
   "execution_count": null,
   "id": "c553173d-812d-49a5-a481-2f1dd03595be",
   "metadata": {},
   "outputs": [],
   "source": [
    " with open(TASKS_FILE, 'w') as f:\n",
    "        for t in tasks:\n",
    "            line = f\"{'1' if t['done'] else '0'}||{t['task']}\\n\"\n",
    "            f.write(line)"
   ]
  },
  {
   "cell_type": "code",
   "execution_count": null,
   "id": "78d1c5ff-f397-4fa1-b742-e02ee95a7577",
   "metadata": {},
   "outputs": [],
   "source": [
    " print(\"Tasks saved successfully.\")"
   ]
  },
  {
   "cell_type": "code",
   "execution_count": null,
   "id": "6cf74ee0-6e0d-43ec-b190-37ba291f4f46",
   "metadata": {},
   "outputs": [],
   "source": [
    "def add_task(tasks):\n",
    "    task = input(\"Enter a new task: \").strip()"
   ]
  },
  {
   "cell_type": "code",
   "execution_count": null,
   "id": "a0e3d8c8-43c2-4b53-addb-3a5cceabcade",
   "metadata": {},
   "outputs": [],
   "source": [
    "if task:\n",
    "        tasks.append({\"task\": task, \"done\": False})"
   ]
  },
  {
   "cell_type": "code",
   "execution_count": null,
   "id": "88390f19-776b-4316-8967-dff4986e7e9f",
   "metadata": {},
   "outputs": [],
   "source": [
    " print(f\"Task added: {task}\")"
   ]
  },
  {
   "cell_type": "code",
   "execution_count": null,
   "id": "4344423e-94db-43fa-b9f6-be8e7ff71a5e",
   "metadata": {},
   "outputs": [],
   "source": [
    "  else:\n",
    "        print(\"Empty task not added.\")"
   ]
  },
  {
   "cell_type": "code",
   "execution_count": null,
   "id": "43ac6cc9-cec1-497c-b5ba-ccd4e74a7fbc",
   "metadata": {},
   "outputs": [],
   "source": [
    "def view_tasks(tasks):\n",
    "    if not tasks:"
   ]
  },
  {
   "cell_type": "code",
   "execution_count": null,
   "id": "f6b1764c-d6ef-4c92-990e-12466a119ab3",
   "metadata": {},
   "outputs": [],
   "source": [
    "print(\"No tasks to show.\")\n",
    "        return"
   ]
  },
  {
   "cell_type": "code",
   "execution_count": null,
   "id": "cd0eb71b-94f6-4e1c-bc9a-37d584404871",
   "metadata": {},
   "outputs": [],
   "source": [
    "print(\"\\nYour Task List:\")"
   ]
  },
  {
   "cell_type": "code",
   "execution_count": null,
   "id": "a8c776f0-97ec-429b-aa3f-2d4353ef86d9",
   "metadata": {},
   "outputs": [],
   "source": [
    "for idx, t in enumerate(tasks):\n",
    "        status = \"✓ Done\" if t[\"done\"] else \"⨯ Pending"
   ]
  },
  {
   "cell_type": "code",
   "execution_count": null,
   "id": "d132f194-ca25-4f14-92bd-aead141f4f40",
   "metadata": {},
   "outputs": [],
   "source": [
    "print(f\"{idx + 1}. {t['task']} - {status}\")\n",
    "    print(f\"Total: {len(tasks)} task(s)\")"
   ]
  },
  {
   "cell_type": "code",
   "execution_count": null,
   "id": "5b737fa8-2a0a-4b32-8ee2-5b6f986aa529",
   "metadata": {},
   "outputs": [],
   "source": [
    "def mark_complete(tasks):\n",
    "    view_tasks(tasks)\n",
    "    if not tasks:\n",
    "        return\n",
    "    try:"
   ]
  },
  {
   "cell_type": "code",
   "execution_count": null,
   "id": "19501f10-93be-43f5-bf81-9d55656b89b3",
   "metadata": {},
   "outputs": [],
   "source": [
    "index = int(input(\"Enter task number to mark complete: \")) - 1\n",
    "        if 0 <= index < len(tasks):\n",
    "            tasks[index][\"done\"] = True"
   ]
  },
  {
   "cell_type": "code",
   "execution_count": null,
   "id": "127df7ad-a7c8-4465-86dc-ecd4d2283b56",
   "metadata": {},
   "outputs": [],
   "source": [
    " print(f\"Marked task '{tasks[index]['task']}' as complete.\")"
   ]
  },
  {
   "cell_type": "code",
   "execution_count": null,
   "id": "061d825d-bd9b-4629-b611-9fbb0317065b",
   "metadata": {},
   "outputs": [],
   "source": [
    " else:\n",
    "            print(\"Invalid task number.\")"
   ]
  },
  {
   "cell_type": "code",
   "execution_count": null,
   "id": "20f0957f-5c5d-439b-bc8d-5f4fd5b02f6d",
   "metadata": {},
   "outputs": [],
   "source": [
    "except ValueError:\n",
    "        print(\"Invalid input. Please enter a number.\")"
   ]
  },
  {
   "cell_type": "code",
   "execution_count": null,
   "id": "ced55723-2313-442c-a10f-17bb391efaf6",
   "metadata": {},
   "outputs": [],
   "source": [
    "def delete_task(tasks):\n",
    "    view_tasks(tasks)\n",
    "    if not tasks:\n",
    "        return"
   ]
  },
  {
   "cell_type": "code",
   "execution_count": null,
   "id": "0af387bd-5d0d-4121-bcdd-aa4cdf4458fe",
   "metadata": {},
   "outputs": [],
   "source": [
    " try:\n",
    "        index = int(input(\"Enter task number to delete: \")) - 1\n",
    "        if 0 <= index < len(tasks):\n",
    "            deleted = tasks.pop(index)"
   ]
  },
  {
   "cell_type": "code",
   "execution_count": null,
   "id": "d018c8d4-2d78-46e9-8458-028c51d06312",
   "metadata": {},
   "outputs": [],
   "source": [
    "print(f\"Deleted task: {deleted['task']}\")"
   ]
  },
  {
   "cell_type": "code",
   "execution_count": null,
   "id": "35fca05c-1a3f-4ce8-95a0-abd787b06443",
   "metadata": {},
   "outputs": [],
   "source": [
    "else:\n",
    "            print(\"Invalid task number.\")"
   ]
  },
  {
   "cell_type": "code",
   "execution_count": null,
   "id": "fe3e2e33-d169-479f-936f-26ee0fea5130",
   "metadata": {},
   "outputs": [],
   "source": []
  },
  {
   "cell_type": "code",
   "execution_count": null,
   "id": "c17e0260-4229-4847-aeac-1345fa9ced53",
   "metadata": {},
   "outputs": [],
   "source": []
  },
  {
   "cell_type": "code",
   "execution_count": null,
   "id": "2da0eac9-5534-4cc9-8675-eff35a9dce44",
   "metadata": {},
   "outputs": [],
   "source": []
  },
  {
   "cell_type": "code",
   "execution_count": null,
   "id": "7a6c52ff-368e-4ab4-99cb-7cd68938c0fa",
   "metadata": {},
   "outputs": [],
   "source": []
  }
 ],
 "metadata": {
  "kernelspec": {
   "display_name": "Python [conda env:py312]",
   "language": "python",
   "name": "conda-env-py312-py"
  },
  "language_info": {
   "codemirror_mode": {
    "name": "ipython",
    "version": 3
   },
   "file_extension": ".py",
   "mimetype": "text/x-python",
   "name": "python",
   "nbconvert_exporter": "python",
   "pygments_lexer": "ipython3",
   "version": "3.12.11"
  }
 },
 "nbformat": 4,
 "nbformat_minor": 5
}
