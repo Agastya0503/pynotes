{
 "cells": [
  {
   "cell_type": "code",
   "execution_count": null,
   "id": "ebafa379-4a1d-41ec-a321-ce5d4d3388a9",
   "metadata": {},
   "outputs": [],
   "source": [
    "#21072025"
   ]
  },
  {
   "cell_type": "code",
   "execution_count": null,
   "id": "27bb6a09-18df-4115-ac3c-e410a4d17c97",
   "metadata": {},
   "outputs": [],
   "source": [
    "from typing import List, Optional"
   ]
  },
  {
   "cell_type": "code",
   "execution_count": null,
   "id": "47c599c2-38a3-4675-9e61-d246b9cba298",
   "metadata": {},
   "outputs": [],
   "source": [
    "def linear_search(arr: List[int], target: int) -> int:\n",
    "    print(\"\\n Starting Linear Search\")"
   ]
  },
  {
   "cell_type": "code",
   "execution_count": null,
   "id": "42a86229-23b8-4497-aa0c-3c5a506e0cc3",
   "metadata": {},
   "outputs": [],
   "source": [
    " for i, val in enumerate(arr):\n",
    "        print(f\"Checking index {i} → {val}\")"
   ]
  },
  {
   "cell_type": "code",
   "execution_count": null,
   "id": "795b17e8-fce6-4a53-bb0e-e4a681bdd09c",
   "metadata": {},
   "outputs": [],
   "source": [
    "if val == target:\n",
    "            print(f\"✅ Found {target} at index {i}\")"
   ]
  },
  {
   "cell_type": "code",
   "execution_count": null,
   "id": "1c624419-bb04-4196-ad24-ffe3ff25484e",
   "metadata": {},
   "outputs": [],
   "source": [
    "            return i\n",
    "    print(f\" {target} not found in the list.\")\n",
    "    return -1"
   ]
  },
  {
   "cell_type": "code",
   "execution_count": null,
   "id": "a11c16da-9da3-490a-8b59-01404effdad2",
   "metadata": {},
   "outputs": [],
   "source": [
    "def binary_search(arr: List[int], target: int) -> int:\n",
    "    print(\"\\n Starting Binary Search\")"
   ]
  },
  {
   "cell_type": "code",
   "execution_count": null,
   "id": "74ffbbc0-fef8-461c-985a-a6e5b74ca2d7",
   "metadata": {},
   "outputs": [],
   "source": [
    " arr.sort()\n",
    "    print(f\"Sorted array: {arr}\")"
   ]
  },
  {
   "cell_type": "code",
   "execution_count": null,
   "id": "937c1f83-5a08-4596-ac58-b02f595b39e7",
   "metadata": {},
   "outputs": [],
   "source": [
    " low, high = 0, len(arr) - 1\n",
    "    while low <= high:\n",
    "        mid = (low + high) // 2\n",
    "        print(f\"Checking middle index {mid} → {arr[mid]}\")"
   ]
  },
  {
   "cell_type": "code",
   "execution_count": null,
   "id": "5ede1363-283f-4864-9188-fd7afabc241d",
   "metadata": {},
   "outputs": [],
   "source": [
    " if arr[mid] == target:\n",
    "            print(f\" Found {target} at index {mid}\")"
   ]
  },
  {
   "cell_type": "code",
   "execution_count": null,
   "id": "4ff631dd-17d2-42a7-8a82-8b8b63f38e78",
   "metadata": {},
   "outputs": [],
   "source": [
    "return mid\n",
    "        elif arr[mid] < target:\n",
    "            print(f\"{arr[mid]} < {target}, moving right\")"
   ]
  },
  {
   "cell_type": "code",
   "execution_count": null,
   "id": "8813125f-c35f-4233-a9fa-6fa96eff834b",
   "metadata": {},
   "outputs": [],
   "source": [
    "  low = mid + 1\n",
    "        else:"
   ]
  },
  {
   "cell_type": "code",
   "execution_count": null,
   "id": "26a92e76-23cd-4385-9d43-de1c98d35577",
   "metadata": {},
   "outputs": [],
   "source": [
    " print(f\"{arr[mid]} > {target}, moving left\")\n",
    "            high = mid - 1"
   ]
  },
  {
   "cell_type": "code",
   "execution_count": null,
   "id": "6fcf9a65-6f59-4d88-94b1-37a277e2a1f0",
   "metadata": {},
   "outputs": [],
   "source": [
    "    print(f\" {target} not found.\")\n",
    "    return -1"
   ]
  },
  {
   "cell_type": "code",
   "execution_count": null,
   "id": "620df9d4-e964-46a2-b3ad-80ca04cef940",
   "metadata": {},
   "outputs": [],
   "source": [
    "def bubble_sort(arr: List[int]) -> List[int]:\n",
    "    print(\"\\n Starting Bubble Sort\")"
   ]
  },
  {
   "cell_type": "code",
   "execution_count": null,
   "id": "4f7db818-6b7c-4bfb-8693-27db0080c8af",
   "metadata": {},
   "outputs": [],
   "source": [
    " n = len(arr)\n",
    "    for i in range(n):"
   ]
  },
  {
   "cell_type": "code",
   "execution_count": null,
   "id": "19747307-e0c9-4798-8cf6-7138547f22e2",
   "metadata": {},
   "outputs": [],
   "source": [
    "print(f\"Pass {i + 1}\")\n",
    "        for j in range(n - i - 1):"
   ]
  },
  {
   "cell_type": "code",
   "execution_count": null,
   "id": "2b103fcb-3975-409f-9839-b100173d99b7",
   "metadata": {},
   "outputs": [],
   "source": [
    " print(f\"Comparing {arr[j]} and {arr[j + 1]}\")\n",
    "            if arr[j] > arr[j + 1]:"
   ]
  },
  {
   "cell_type": "code",
   "execution_count": null,
   "id": "5ddf681f-42d5-433c-96ea-8174f0e988f5",
   "metadata": {},
   "outputs": [],
   "source": [
    "print(f\"Swapping {arr[j]} ↔ {arr[j + 1]}\")\n",
    "arr[j], arr[j + 1] = arr[j + 1], arr[j]\n"
   ]
  },
  {
   "cell_type": "code",
   "execution_count": null,
   "id": "32f8135f-7138-41b6-a2b9-fd2f26ce2425",
   "metadata": {},
   "outputs": [],
   "source": [
    "print(f\"Array after pass {i + 1}: {arr}\")\n",
    "print(f\"Sorted array: {arr}\")"
   ]
  },
  {
   "cell_type": "code",
   "execution_count": null,
   "id": "8311a2a5-3e34-4e5b-abbd-b4664907e382",
   "metadata": {},
   "outputs": [],
   "source": [
    "return arr\n",
    "def quick_sort(arr: List[int]) -> List[int]:\n",
    "    if len(arr) <= 1:\n",
    "        return arr\n",
    "    pivot = arr[0]"
   ]
  },
  {
   "cell_type": "code",
   "execution_count": null,
   "id": "a53ff4da-c3d9-4fca-a692-c59b65e3595d",
   "metadata": {},
   "outputs": [],
   "source": [
    " print(f\"\\n Quick Sort Pivot: {pivot}\")"
   ]
  },
  {
   "cell_type": "code",
   "execution_count": null,
   "id": "3b233e27-f3d8-48ff-82dd-fec9e4f6c50f",
   "metadata": {},
   "outputs": [],
   "source": [
    "left = [x for x in arr[1:] if x <= pivot]\n",
    "right = [x for x in arr[1:] if x > pivot]"
   ]
  },
  {
   "cell_type": "code",
   "execution_count": null,
   "id": "e4dd27aa-97d8-446d-ba17-380ec58551c5",
   "metadata": {},
   "outputs": [],
   "source": [
    "print(f\"Left: {left} | Right: {right}\")\n",
    "return quick_sort(left) + [pivot] + quick_sort(right)"
   ]
  },
  {
   "cell_type": "code",
   "execution_count": null,
   "id": "1b298283-eeee-4390-936a-1e67c235ac91",
   "metadata": {},
   "outputs": [],
   "source": [
    "class Node:\n",
    "    def __init__(self, data: int):\n",
    "        self.data = data\n",
    "        self.next: Optional['Node'] = None"
   ]
  },
  {
   "cell_type": "code",
   "execution_count": null,
   "id": "1e11cab7-4137-4404-9b27-b4cfdca727a9",
   "metadata": {},
   "outputs": [],
   "source": [
    "class LinkedList:\n",
    "    def __init__(self):\n",
    "        self.head: Optional[Node] = None"
   ]
  },
  {
   "cell_type": "code",
   "execution_count": null,
   "id": "9df4ac56-e985-446f-8955-00ce99c262a2",
   "metadata": {},
   "outputs": [],
   "source": [
    "def append(self, data: int):\n",
    "        print(f\" Appending {data} to linked list.\")"
   ]
  },
  {
   "cell_type": "code",
   "execution_count": null,
   "id": "99e97b60-aded-4935-a257-642c02da26b5",
   "metadata": {},
   "outputs": [],
   "source": [
    "  new_node = Node(data)\n",
    "        if not self.head:\n",
    "            self.head = new_node\n",
    "            print(f\"Head initialized with {data}\")"
   ]
  },
  {
   "cell_type": "code",
   "execution_count": null,
   "id": "f1720fca-d230-40b5-845c-e82f4ed1c148",
   "metadata": {},
   "outputs": [],
   "source": [
    "  return\n",
    "        temp = self.head\n",
    "        while temp.next:\n",
    "            temp = temp.next\n",
    "        temp.next = new_node\n",
    "        print(f\"{data} appended at the end.\")"
   ]
  },
  {
   "cell_type": "code",
   "execution_count": null,
   "id": "9d00e864-9e4c-4e52-a495-f1c17bee3e86",
   "metadata": {},
   "outputs": [],
   "source": [
    "  def display(self):\n",
    "        print(\" Linked List:\")\n",
    "        elems = []\n",
    "        temp = self.head\n",
    "        while temp:\n",
    "            elems.append(str(temp.data))\n",
    "            temp = temp.next\n",
    "        print(\" -> \".join(elems))"
   ]
  },
  {
   "cell_type": "code",
   "execution_count": null,
   "id": "80abca3d-ae21-4329-bac4-8621d2c74b70",
   "metadata": {},
   "outputs": [],
   "source": [
    "def search(self, key: int) -> bool:\n",
    "print(f\" Searching {key} in Linked List\")"
   ]
  },
  {
   "cell_type": "code",
   "execution_count": null,
   "id": "eba1fab1-26c7-44de-80bf-2d23292b7315",
   "metadata": {},
   "outputs": [],
   "source": [
    "temp = self.head\n",
    "while temp:"
   ]
  },
  {
   "cell_type": "code",
   "execution_count": null,
   "id": "790995bd-afa9-44d2-9b85-92828e7a3ca9",
   "metadata": {},
   "outputs": [],
   "source": [
    "print(f\"Checking node with value {temp.data}\")"
   ]
  },
  {
   "cell_type": "code",
   "execution_count": null,
   "id": "bf60ccf8-cd0c-4a98-be4b-163bc034c816",
   "metadata": {},
   "outputs": [],
   "source": [
    "if temp.data == key:\n",
    "                print(f\" Found {key}\")"
   ]
  },
  {
   "cell_type": "code",
   "execution_count": null,
   "id": "4ee3c372-d867-40b1-b4d5-2ae706aee653",
   "metadata": {},
   "outputs": [],
   "source": [
    "  return True\n",
    "            temp = temp.next\n",
    "        print(f\" {key} not found.\")\n",
    "        return False"
   ]
  },
  {
   "cell_type": "code",
   "execution_count": null,
   "id": "7fa85d8e-7b58-4d55-9ead-302879d9d846",
   "metadata": {},
   "outputs": [],
   "source": [
    "def run_quiz():\n",
    "    print(\"\\n Welcome to DSA Quiz Mode\")\n",
    "    questions = ["
   ]
  },
  {
   "cell_type": "code",
   "execution_count": null,
   "id": "12fe1082-0991-48a3-8cd7-1dfd4d1e5f34",
   "metadata": {},
   "outputs": [],
   "source": [
    "{\n",
    "  \"question\": \"Which sorting algorithm is best for nearly sorted data?\",\n",
    "  \"options\": [\"A. Quick Sort\", \"B. Merge Sort\", \"C. Insertion Sort\", \"D. Heap Sort\"],\n",
    "  \"answer\": \"C\"\n",
    " },"
   ]
  },
  {
   "cell_type": "code",
   "execution_count": null,
   "id": "61056184-ee5c-4e71-903c-470db5cefea2",
   "metadata": {},
   "outputs": [],
   "source": [
    " {\n",
    "\"question\": \"What is the time complexity of Binary Search?\",\n",
    "\"options\": [\"A. O(n)\", \"B. O(log n)\", \"C. O(n log n)\", \"D. O(1)\"],\n",
    " \"answer\": \"B\"\n",
    " },"
   ]
  },
  {
   "cell_type": "code",
   "execution_count": null,
   "id": "297834bf-6f14-4adc-a6df-192e86f49961",
   "metadata": {},
   "outputs": [],
   "source": [
    "{\n",
    "\"question\": \"Which data structure uses FIFO?\",\n",
    "\"options\": [\"A. Stack\", \"B. Queue\", \"C. Tree\", \"D. Graph\"],\n",
    "\"answer\": \"B\"\n",
    "}\n",
    "]"
   ]
  },
  {
   "cell_type": "code",
   "execution_count": null,
   "id": "43e74d71-7342-40af-822e-efe090b0fd84",
   "metadata": {},
   "outputs": [],
   "source": [
    "score = 0\n",
    "    for i, q in enumerate(questions):\n",
    "        print(f\"\\nQ{i + 1}: {q['question']}\")"
   ]
  },
  {
   "cell_type": "code",
   "execution_count": null,
   "id": "378e2cfd-be8f-493d-b2a0-1f4eb7294111",
   "metadata": {},
   "outputs": [],
   "source": [
    "for opt in q['options']:\n",
    "            print(opt)"
   ]
  },
  {
   "cell_type": "code",
   "execution_count": null,
   "id": "13cf2287-ac59-40d4-8061-93822fe3bdd3",
   "metadata": {},
   "outputs": [],
   "source": [
    "ans = input(\"Your answer (A/B/C/D): \").strip().upper()\n",
    "        if ans == q[\"answer\"]:\n",
    "            print(\" Correct!\")"
   ]
  },
  {
   "cell_type": "code",
   "execution_count": null,
   "id": "01467887-6589-4acb-a776-9f94313f1a9c",
   "metadata": {},
   "outputs": [],
   "source": [
    " score += 1\n",
    "        else:\n",
    "            print(f\" Wrong. Correct answer: {q['answer']}\")"
   ]
  },
  {
   "cell_type": "code",
   "execution_count": null,
   "id": "15d7b839-a911-4e54-88cb-f59fdbdd5d15",
   "metadata": {},
   "outputs": [],
   "source": [
    " print(f\"\\n🎉 Final Score: {score}/{len(questions)}\")"
   ]
  },
  {
   "cell_type": "code",
   "execution_count": null,
   "id": "8d758ae7-f6fa-4fa5-b075-6630dfb499f5",
   "metadata": {},
   "outputs": [],
   "source": [
    "def main_menu():\n",
    "    ll = LinkedList()\n",
    "    while True:\n",
    "        print(\"\\n PyNotes DSA Trainer Menu\")\n",
    "        print(\"1. Linear Search\")\n",
    "        print(\"2. Binary Search\")\n",
    "        print(\"3. Bubble Sort\")\n",
    "        print(\"4. Quick Sort\")\n",
    "        print(\"5. Linked List (Append/Search/Display)\")\n",
    "        print(\"6. DSA Quiz Mode\")\n",
    "        print(\"0. Exit\")"
   ]
  },
  {
   "cell_type": "code",
   "execution_count": null,
   "id": "5cc870d1-1cbb-4fe8-85eb-cfe9eafee8be",
   "metadata": {},
   "outputs": [],
   "source": [
    " choice = input(\"Choose an option: \")\n",
    "\n",
    "        if choice == '1':\n",
    "            arr = [int(x) for x in input(\"Enter list of numbers: \").split()]\n",
    "            target = int(input(\"Enter value to search: \"))\n",
    "            linear_search(arr, target)"
   ]
  },
  {
   "cell_type": "code",
   "execution_count": null,
   "id": "04e7ab88-e7ce-4316-93ac-e67b2ff3ef8a",
   "metadata": {},
   "outputs": [],
   "source": [
    "elif choice == '2':\n",
    "            arr = [int(x) for x in input(\"Enter sorted list: \").split()]\n",
    "            target = int(input(\"Enter value to search: \"))\n",
    "            binary_search(arr, target)\n"
   ]
  },
  {
   "cell_type": "code",
   "execution_count": null,
   "id": "9907eec4-01d9-4d49-ae32-1d7152f6c9ee",
   "metadata": {},
   "outputs": [],
   "source": [
    " elif choice == '3':\n",
    "            arr = [int(x) for x in input(\"Enter list: \").split()]\n",
    "            bubble_sort(arr)"
   ]
  },
  {
   "cell_type": "code",
   "execution_count": null,
   "id": "c6f4b727-2aab-4f8c-a9e8-b082772842b4",
   "metadata": {},
   "outputs": [],
   "source": [
    "elif choice == '4':\n",
    "            arr = [int(x) for x in input(\"Enter list: \").split()]\n",
    "            print(f\"Before: {arr}\")\n",
    "            sorted_arr = quick_sort(arr)\n",
    "            print(f\"After Quick Sort: {sorted_arr}\")"
   ]
  },
  {
   "cell_type": "code",
   "execution_count": null,
   "id": "436d7081-49fe-4cd0-853e-fa9c030aa13c",
   "metadata": {},
   "outputs": [],
   "source": [
    "elif choice == '5':\n",
    "            while True:\n",
    "                print(\"\\nLinked List Menu\")\n",
    "                print(\"a. Append\")\n",
    "                print(\"b. Search\")\n",
    "                print(\"c. Display\")\n",
    "                print(\"d. Back to main menu\")"
   ]
  },
  {
   "cell_type": "code",
   "execution_count": null,
   "id": "b903e610-7d34-43cf-968a-d0eecab4a805",
   "metadata": {},
   "outputs": [],
   "source": [
    "sub = input(\"Choose an option: \")\n",
    "                if sub == 'a':\n",
    "                    val = int(input(\"Enter value to append: \"))\n",
    "                    ll.append(val)"
   ]
  },
  {
   "cell_type": "code",
   "execution_count": null,
   "id": "b3afcf5b-bd74-465d-96a7-c7d5f6dc2590",
   "metadata": {},
   "outputs": [],
   "source": [
    "lif sub == 'b':\n",
    "                    val = int(input(\"Enter value to search: \"))\n",
    "                    ll.search(val)\n",
    "                elif sub == 'c':\n",
    "                    ll.display()\n",
    "                elif sub == 'd':"
   ]
  },
  {
   "cell_type": "code",
   "execution_count": null,
   "id": "34bee19c-4edc-4189-b730-9ee9fecd5762",
   "metadata": {},
   "outputs": [],
   "source": [
    " break\n",
    "                else:\n",
    "                    print(\" Invalid option.\")"
   ]
  },
  {
   "cell_type": "code",
   "execution_count": null,
   "id": "dc1f6f45-5676-4da7-ade0-1241e385cdd9",
   "metadata": {},
   "outputs": [],
   "source": [
    "  elif choice == '6':\n",
    "            run_quiz()"
   ]
  },
  {
   "cell_type": "code",
   "execution_count": null,
   "id": "78aee6ce-acd6-468c-9df4-8caa785f1255",
   "metadata": {},
   "outputs": [],
   "source": [
    "elif choice == '0':\n",
    "            print(\" Exiting PyNotes DSA Trainer. Goodbye!\")\n",
    "            break\n"
   ]
  },
  {
   "cell_type": "code",
   "execution_count": null,
   "id": "26e51d58-abfb-4e0d-a6db-14554ee65d58",
   "metadata": {},
   "outputs": [],
   "source": [
    " else:\n",
    "            print(\" Invalid choice. Please select a valid option.\")"
   ]
  },
  {
   "cell_type": "code",
   "execution_count": null,
   "id": "878582c8-4bdd-4afa-938e-8f15885b5926",
   "metadata": {},
   "outputs": [],
   "source": [
    "if __name__ == \"__main__\":\n",
    "    main_menu()"
   ]
  }
 ],
 "metadata": {
  "kernelspec": {
   "display_name": "Python [conda env:py312]",
   "language": "python",
   "name": "conda-env-py312-py"
  },
  "language_info": {
   "codemirror_mode": {
    "name": "ipython",
    "version": 3
   },
   "file_extension": ".py",
   "mimetype": "text/x-python",
   "name": "python",
   "nbconvert_exporter": "python",
   "pygments_lexer": "ipython3",
   "version": "3.12.11"
  }
 },
 "nbformat": 4,
 "nbformat_minor": 5
}
