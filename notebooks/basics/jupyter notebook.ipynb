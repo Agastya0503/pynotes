{
 "cells": [
  {
   "cell_type": "code",
   "execution_count": null,
   "id": "4313e8dc-d46b-47bd-b700-b109f2081526",
   "metadata": {},
   "outputs": [],
   "source": [
    "#21072025"
   ]
  },
  {
   "cell_type": "code",
   "execution_count": null,
   "id": "960c90d4-4dcc-4fed-802e-b4093c15c41f",
   "metadata": {},
   "outputs": [],
   "source": [
    "def bubble_sort(arr):\n",
    "    print(\"\\nBubble Sort\")\n",
    "    n = len(arr)\n",
    "    for i in range(n):\n",
    "        for j in range(0, n - i - 1):"
   ]
  },
  {
   "cell_type": "code",
   "execution_count": null,
   "id": "c27c960f-dc06-4516-a1f8-df5f1d67a5b9",
   "metadata": {},
   "outputs": [],
   "source": [
    "print(f\"Compare {arr[j]} and {arr[j+1]}\")"
   ]
  },
  {
   "cell_type": "code",
   "execution_count": null,
   "id": "b2797f1b-b6f7-4684-b533-c1b240b56d47",
   "metadata": {},
   "outputs": [],
   "source": [
    " if arr[j] > arr[j + 1]:\n",
    "                print(f\"Swap {arr[j]} <-> {arr[j+1]}\")"
   ]
  },
  {
   "cell_type": "code",
   "execution_count": null,
   "id": "e95f4418-9552-43ac-a1ef-d5cbf8392603",
   "metadata": {},
   "outputs": [],
   "source": [
    "arr[j], arr[j + 1] = arr[j + 1], arr[j]\n",
    "        print(f\"After pass {i+1}: {arr}\")  \n",
    "return arr"
   ]
  },
  {
   "cell_type": "code",
   "execution_count": null,
   "id": "5c2d1a7b-bea1-4064-8cb2-cc0b3a330c9b",
   "metadata": {},
   "outputs": [],
   "source": [
    "def insertion_sort(arr):\n",
    "    print(\"\\nInsertion Sort\")\n",
    "    for i in range(1, len(arr)):\n",
    "        key = arr[i]\n",
    "        j = i - 1"
   ]
  },
  {
   "cell_type": "code",
   "execution_count": null,
   "id": "2f0825a9-569d-4716-942e-87d7f4d98b02",
   "metadata": {},
   "outputs": [],
   "source": [
    " print(f\"Insert {key}\")\n",
    "        while j >= 0 and arr[j] > key:\n",
    "            print(f\"Move {arr[j]} to position {j+1}\")\n",
    "            arr[j + 1] = arr[j]\n",
    "            j -= 1\n",
    "        arr[j + 1] = key"
   ]
  },
  {
   "cell_type": "code",
   "execution_count": null,
   "id": "fc06eeeb-248a-464c-a3a3-71e539956f8b",
   "metadata": {},
   "outputs": [],
   "source": [
    "print(f\"Inserted {key}, Array now: {arr}\")\n",
    "    return arr"
   ]
  },
  {
   "cell_type": "code",
   "execution_count": null,
   "id": "80ef9248-cba6-43d5-b528-de48311f2cb6",
   "metadata": {},
   "outputs": [],
   "source": [
    "def linear_search(arr, target):\n",
    "    print(f\"\\nLinear Search for {target}\")\n",
    "    for i in range(len(arr)):\n",
    "        print(f\"Check index {i}: {arr[i]}\")\n",
    "        if arr[i] == target:"
   ]
  },
  {
   "cell_type": "code",
   "execution_count": null,
   "id": "37be88dd-4485-4c7f-a06a-38ab009509c6",
   "metadata": {},
   "outputs": [],
   "source": [
    "print(f\"Found {target} at index {i}\")\n",
    "            return i\n",
    "    print(\"Not Found\")\n",
    "    return -1"
   ]
  },
  {
   "cell_type": "code",
   "execution_count": null,
   "id": "e0337e27-b413-4333-9fad-bb8ae8c3de80",
   "metadata": {},
   "outputs": [],
   "source": [
    "def binary_search(arr, target):\n",
    "    print(f\"\\nBinary Search for {target}\")\n",
    "    low, high = 0, len(arr) - 1\n",
    "    while low <= high:\n",
    "        mid = (low + high)"
   ]
  },
  {
   "cell_type": "code",
   "execution_count": null,
   "id": "30de41b5-1479-4ed9-9ded-2c7a037ba905",
   "metadata": {},
   "outputs": [],
   "source": [
    "print(f\"Check middle index {mid}: {arr[mid]}\")\n",
    "        if arr[mid] == target:\n",
    "            print(f\"Found {target} at index {mid}\")\n",
    "            return mid\n",
    "        elif arr[mid] < target:"
   ]
  },
  {
   "cell_type": "code",
   "execution_count": null,
   "id": "a30a2965-35a5-4a72-9c3b-bfaf875189bf",
   "metadata": {},
   "outputs": [],
   "source": [
    "print(f\"{target} > {arr[mid]} → go right\")\n",
    "            low = mid + 1\n",
    "        else:\n",
    "            print(f\"{target} < {arr[mid]} → go left\")\n",
    "            high = mid - 1\n",
    "    print(\"Not Found\")\n",
    "    return -1"
   ]
  },
  {
   "cell_type": "code",
   "execution_count": null,
   "id": "84bb1363-b00c-4578-b46d-216867b3b9b9",
   "metadata": {},
   "outputs": [],
   "source": [
    "def merge_sort(arr):\n",
    "    print(f\"\\nMerge Sort on {arr}\")\n",
    "    if len(arr) > 1:\n",
    "        mid = len(arr) // 2\n",
    "        L = arr[:mid]\n",
    "        R = arr[mid:]"
   ]
  },
  {
   "cell_type": "code",
   "execution_count": null,
   "id": "592e35bc-4d2a-4eae-a7ee-d77f27a6ecd3",
   "metadata": {},
   "outputs": [],
   "source": [
    "print(f\"Split into {L} and {R}\")\n",
    "        merge_sort(L)\n",
    "        merge_sort(R)\n",
    "        i = j = k = 0"
   ]
  },
  {
   "cell_type": "code",
   "execution_count": null,
   "id": "c35a2d47-a324-4d4e-bfc1-bf8e5fe71228",
   "metadata": {},
   "outputs": [],
   "source": [
    "while i < len(L) and j < len(R):\n",
    "            print(f\"Compare {L[i]} and {R[j]}\")\n",
    "            if L[i] < R[j]:\n",
    "                arr[k] = L[i]\n",
    "                i += 1\n",
    "            else:\n",
    "                arr[k] = R[j]\n",
    "                j += 1\n",
    "            k += 1"
   ]
  },
  {
   "cell_type": "code",
   "execution_count": null,
   "id": "6857ce7d-de39-43cd-b723-9b927b1ccd8b",
   "metadata": {},
   "outputs": [],
   "source": [
    " while i < len(L):\n",
    "            arr[k] = L[i]\n",
    "            i += 1\n",
    "            k += 1\n",
    "        while j < len(R):\n",
    "            arr[k] = R[j]\n",
    "            j += 1\n",
    "            k += 1"
   ]
  },
  {
   "cell_type": "code",
   "execution_count": null,
   "id": "f42f07ca-e097-4b64-b891-3ef6b674f303",
   "metadata": {},
   "outputs": [],
   "source": [
    "print(f\"Merged: {arr}\")\n",
    "    return arr"
   ]
  },
  {
   "cell_type": "code",
   "execution_count": null,
   "id": "6beae545-a5bf-4b38-a40d-1c810ce8c2b0",
   "metadata": {},
   "outputs": [],
   "source": [
    "def quick_sort(arr):\n",
    "    print(f\"\\nQuick Sort on {arr}\")\n",
    "    if len(arr) <= 1:\n",
    "        return arr\n",
    "    else:"
   ]
  },
  {
   "cell_type": "code",
   "execution_count": null,
   "id": "f601a2d0-6a82-4405-8b1b-42629ee194ef",
   "metadata": {},
   "outputs": [],
   "source": [
    " pivot = arr[0]\n",
    "        print(f\"Pivot: {pivot}\")\n",
    "        less = [x for x in arr[1:] if x <= pivot]\n",
    "        greater = [x for x in arr[1:] if x > pivot]\n",
    "        print(f\"Less: {less}, Greater: {greater}\")\n",
    "        return quick_sort(less) + [pivot] + quick_sort(greate)"
   ]
  },
  {
   "cell_type": "code",
   "execution_count": null,
   "id": "018a17dc-7b81-4d73-a8e7-33be4e1579be",
   "metadata": {},
   "outputs": [],
   "source": [
    "def test_all_algorithms():\n",
    "    test_array = [34, 12, 5, 66, 21]\n",
    "    print(\"\\nRunning All Algorithms on:\", test_array)\n",
    "\n",
    "    print(\"\\n-- Bubble Sort --\")\n",
    "    bubble_sort(test_array.copy())"
   ]
  },
  {
   "cell_type": "code",
   "execution_count": null,
   "id": "d8c65c41-b8f6-433d-83e2-126687ed5a5c",
   "metadata": {},
   "outputs": [],
   "source": [
    " print(\"\\n-- Insertion Sort --\")\n",
    "    insertion_sort(test_array.copy())"
   ]
  },
  {
   "cell_type": "code",
   "execution_count": null,
   "id": "bd4c85c0-1cb7-4df7-8059-94c1b983fec2",
   "metadata": {},
   "outputs": [],
   "source": [
    "print(\"\\n-- Merge Sort --\")\n",
    "    merge_sort(test_array.copy())"
   ]
  },
  {
   "cell_type": "code",
   "execution_count": null,
   "id": "82fd7bd2-39e1-4482-a6f4-859677d3fc69",
   "metadata": {},
   "outputs": [],
   "source": [
    " print(\"\\n-- Quick Sort --\")\n",
    "    sorted_qs = quick_sort(test_array.copy())\n",
    "    print(\"Quick Sort Result:\", sorted_qs)"
   ]
  },
  {
   "cell_type": "code",
   "execution_count": null,
   "id": "9d7ad422-231e-4638-b1ea-588a8a8c929e",
   "metadata": {},
   "outputs": [],
   "source": [
    "print(\"\\n-- Binary Search (sorted array) --\")\n",
    "    sorted_arr = sorted(test_array)\n",
    "    binary_search(sorted_arr, 21)"
   ]
  },
  {
   "cell_type": "code",
   "execution_count": null,
   "id": "ed135998-819f-4144-bc2a-8895aa2a0db6",
   "metadata": {},
   "outputs": [],
   "source": [
    " print(\"\\n-- Linear Search --\")\n",
    "    linear_search(test_array, 66)"
   ]
  },
  {
   "cell_type": "code",
   "execution_count": null,
   "id": "454db384-4afa-4496-8cf2-2b02c94054e0",
   "metadata": {},
   "outputs": [],
   "source": [
    "def menu():\n",
    "    while True:\n",
    "        print(\"\\nDSA Menu\")\n",
    "        print(\"1. Bubble Sort\")\n",
    "        print(\"2. Insertion Sort\")\n",
    "        print(\"3. Merge Sort\")\n",
    "        print(\"4. Quick Sort\")\n",
    "        print(\"5. Linear Search\")\n",
    "        print(\"6. Binary Search (sorted only)\")\n",
    "        print(\"7. Test All\")\n",
    "        print(\"8. Exit\")"
   ]
  },
  {
   "cell_type": "code",
   "execution_count": null,
   "id": "aeff701d-5391-457c-a59d-f1a489aeb1b7",
   "metadata": {},
   "outputs": [],
   "source": [
    " choice = input(\"Choose an option: \")\n",
    "        arr = [29, 10, 14, 37, 14]"
   ]
  },
  {
   "cell_type": "code",
   "execution_count": null,
   "id": "fd415ef0-6578-4a8c-b547-46cac682bd31",
   "metadata": {},
   "outputs": [],
   "source": [
    "if choice == '1':\n",
    "            print(\"Original:\", arr)\n",
    "            bubble_sort(arr.copy())"
   ]
  },
  {
   "cell_type": "code",
   "execution_count": null,
   "id": "622a271a-9fd4-4f4d-9fee-7ef65320475e",
   "metadata": {},
   "outputs": [],
   "source": [
    " elif choice == '2':\n",
    "            print(\"Original:\", arr)\n",
    "            insertion_sort(arr.copy())"
   ]
  },
  {
   "cell_type": "code",
   "execution_count": null,
   "id": "5397dc17-6187-4221-8344-4f72bb8f2d11",
   "metadata": {},
   "outputs": [],
   "source": [
    "elif choice == '3':\n",
    "            print(\"Original:\", arr)\n",
    "            merge_sort(arr.copy())"
   ]
  },
  {
   "cell_type": "code",
   "execution_count": null,
   "id": "a5e205db-6684-460d-b31b-f21e45de4ba1",
   "metadata": {},
   "outputs": [],
   "source": [
    " elif choice == '4':\n",
    "            print(\"Original:\", arr)\n",
    "            result = quick_sort(arr.copy())\n",
    "            print(\"Sorted:\", result)"
   ]
  },
  {
   "cell_type": "code",
   "execution_count": null,
   "id": "ad376b76-9875-43cb-a156-e6e778eb90f6",
   "metadata": {},
   "outputs": [],
   "source": [
    "elif choice == '5':\n",
    "            val = int(input(\"Enter value to search: \"))\n",
    "            linear_search(arr, val)"
   ]
  },
  {
   "cell_type": "code",
   "execution_count": null,
   "id": "7a935593-275d-4106-b5ad-028ae026c0df",
   "metadata": {},
   "outputs": [],
   "source": [
    "elif choice == '6':\n",
    "            sorted_arr = sorted(arr)\n",
    "            val = int(input(\"Enter value to search: \"))\n",
    "            binary_search(sorted_arr, val)"
   ]
  },
  {
   "cell_type": "code",
   "execution_count": null,
   "id": "3929f28a-3cc1-4127-b222-26c6dab4a034",
   "metadata": {},
   "outputs": [],
   "source": [
    " elif choice == '7':\n",
    "            test_all_algorithms()\n",
    "        elif choice == '8':\n",
    "            print(\"Goodbye!\")"
   ]
  },
  {
   "cell_type": "code",
   "execution_count": null,
   "id": "48307f3e-87af-49b7-85d4-95de261597c2",
   "metadata": {},
   "outputs": [],
   "source": [
    " break\n",
    "        else:\n",
    "            print(\"Invalid choice, try again.\")"
   ]
  },
  {
   "cell_type": "code",
   "execution_count": null,
   "id": "d920b24f-6855-422b-828e-980676efbb82",
   "metadata": {},
   "outputs": [],
   "source": [
    "if __name__ == \"__main__\":\n",
    "    menu()"
   ]
  },
  {
   "cell_type": "code",
   "execution_count": null,
   "id": "3a8a6d4d-2c68-446b-a3b7-c6ca5c47e0c2",
   "metadata": {},
   "outputs": [],
   "source": []
  },
  {
   "cell_type": "code",
   "execution_count": null,
   "id": "9a7e5ed9-5779-4f10-b602-d58b29be31ab",
   "metadata": {},
   "outputs": [],
   "source": []
  }
 ],
 "metadata": {
  "kernelspec": {
   "display_name": "Python [conda env:py312]",
   "language": "python",
   "name": "conda-env-py312-py"
  },
  "language_info": {
   "codemirror_mode": {
    "name": "ipython",
    "version": 3
   },
   "file_extension": ".py",
   "mimetype": "text/x-python",
   "name": "python",
   "nbconvert_exporter": "python",
   "pygments_lexer": "ipython3",
   "version": "3.12.11"
  }
 },
 "nbformat": 4,
 "nbformat_minor": 5
}
