{
 "cells": [
  {
   "cell_type": "code",
   "execution_count": null,
   "id": "eec33629-eea2-44f6-973b-df2878ba6315",
   "metadata": {},
   "outputs": [],
   "source": [
    "#21072025"
   ]
  },
  {
   "cell_type": "code",
   "execution_count": null,
   "id": "bd61dd77-843c-447f-a4f1-11342b8f0206",
   "metadata": {},
   "outputs": [],
   "source": [
    "class Stack:\n",
    "    def __init__(self):\n",
    "        self.items = []\n",
    "\n",
    "    def push(self, item):\n",
    "        print(f\"Pushed {item} to stack.\")\n",
    "        self.items.append(item)\n",
    "\n",
    "    def pop(self):\n",
    "        if not self.is_empty():"
   ]
  },
  {
   "cell_type": "code",
   "execution_count": null,
   "id": "b3c5156a-2709-43b0-82a8-436bf4f73dee",
   "metadata": {},
   "outputs": [],
   "source": [
    "print(f\"Popped {self.items[-1]} from stack.\")\n",
    "            return self.items.pop()"
   ]
  },
  {
   "cell_type": "code",
   "execution_count": null,
   "id": "c4992cb6-2099-4dc7-bc59-3833be481a36",
   "metadata": {},
   "outputs": [],
   "source": [
    " print(\"Stack is empty.\")\n",
    "        return None"
   ]
  },
  {
   "cell_type": "code",
   "execution_count": null,
   "id": "371a6bf9-5265-428f-821c-7e8cda23f66e",
   "metadata": {},
   "outputs": [],
   "source": [
    "def peek(self):\n",
    "        return self.items[-1] if not self.is_empty() else None\n",
    "\n",
    "    def is_empty(self):\n",
    "        return len(self.items) == 0\n",
    "\n",
    "    def display(self):"
   ]
  },
  {
   "cell_type": "code",
   "execution_count": null,
   "id": "d9497e74-8ec9-43f9-b3a9-bf6babff24e7",
   "metadata": {},
   "outputs": [],
   "source": [
    "  print(\"Stack:\", self.items)"
   ]
  },
  {
   "cell_type": "code",
   "execution_count": null,
   "id": "30c8b865-db50-4228-af32-ddacc87c0017",
   "metadata": {},
   "outputs": [],
   "source": [
    "class Queue:\n",
    "    def __init__(self):\n",
    "        self.items = []\n",
    "\n",
    "    def enqueue(self, item):\n",
    "        print(f\"Enqueued {item} to queue.\")\n",
    "        self.items.insert(0, item)\n",
    "\n",
    "    def dequeue(self):\n",
    "        if not self.is_empty():"
   ]
  },
  {
   "cell_type": "code",
   "execution_count": null,
   "id": "6c8b6be6-ccf8-4c9c-9ff4-195090c5b297",
   "metadata": {},
   "outputs": [],
   "source": [
    "print(f\"Dequeued {self.items[-1]} from queue.\")\n",
    "return self.items.pop()"
   ]
  },
  {
   "cell_type": "code",
   "execution_count": null,
   "id": "161d349e-96b4-4c7e-8613-0202ced3ebfa",
   "metadata": {},
   "outputs": [],
   "source": [
    "print(\"Queue is empty.\")\n",
    "        return None"
   ]
  },
  {
   "cell_type": "code",
   "execution_count": null,
   "id": "8f599352-06c4-4418-81e2-1d08d951cf52",
   "metadata": {},
   "outputs": [],
   "source": [
    "  def is_empty(self):\n",
    "        return len(self.items) == 0"
   ]
  },
  {
   "cell_type": "code",
   "execution_count": null,
   "id": "0eee9fab-e375-4351-a605-72d46da6c563",
   "metadata": {},
   "outputs": [],
   "source": [
    "def display(self):\n",
    "        print(\"Queue:\", list(reversed(self.items)))"
   ]
  },
  {
   "cell_type": "code",
   "execution_count": null,
   "id": "db6f19af-51a2-4adc-b7db-89be399ffacd",
   "metadata": {},
   "outputs": [],
   "source": [
    "class Queue:\n",
    "    def __init__(self):\n",
    "        self.items = []"
   ]
  },
  {
   "cell_type": "code",
   "execution_count": null,
   "id": "14ab14ff-0897-4b57-86bd-109d32df9c8a",
   "metadata": {},
   "outputs": [],
   "source": [
    "def enqueue(self, item):\n",
    "        print(f\"Enqueued {item} to queue.\")\n",
    "        self.items.insert(0, item)"
   ]
  },
  {
   "cell_type": "code",
   "execution_count": null,
   "id": "76ddab49-5e8c-478f-a8b2-4bf53d720523",
   "metadata": {},
   "outputs": [],
   "source": [
    "def dequeue(self):\n",
    "        if not self.is_empty():"
   ]
  },
  {
   "cell_type": "code",
   "execution_count": null,
   "id": "3de7cda8-2a44-4a35-abb5-9cd3e4d38d2d",
   "metadata": {},
   "outputs": [],
   "source": [
    "print(f\"Dequeued {self.items[-1]} from queue.\")"
   ]
  },
  {
   "cell_type": "code",
   "execution_count": null,
   "id": "e37bbbe9-c01e-44e7-b018-386510317715",
   "metadata": {},
   "outputs": [],
   "source": [
    "return self.items.pop()"
   ]
  },
  {
   "cell_type": "code",
   "execution_count": null,
   "id": "ced98215-b0f7-48a8-9088-de33b6afded4",
   "metadata": {},
   "outputs": [],
   "source": [
    "print(\"Queue is empty.\")"
   ]
  },
  {
   "cell_type": "code",
   "execution_count": null,
   "id": "84c1d69e-7cbe-4bf8-8d75-bbd41fceffcc",
   "metadata": {},
   "outputs": [],
   "source": [
    "return None"
   ]
  },
  {
   "cell_type": "code",
   "execution_count": null,
   "id": "db98bf99-c247-4b42-81ae-6397ea2b4804",
   "metadata": {},
   "outputs": [],
   "source": [
    " def is_empty(self):\n",
    "        return len(self.items) == 0\n",
    "    def display(self):"
   ]
  },
  {
   "cell_type": "code",
   "execution_count": null,
   "id": "86f06818-9a1b-4eea-91fc-9567f873fb09",
   "metadata": {},
   "outputs": [],
   "source": [
    "print(\"Queue:\", list(reversed(self.items)))"
   ]
  },
  {
   "cell_type": "code",
   "execution_count": null,
   "id": "d473d7de-43cb-43c4-bb03-fc2de91604ce",
   "metadata": {},
   "outputs": [],
   "source": [
    "class Node:\n",
    "    def __init__(self, data):\n",
    "        self.data = data\n",
    "        self.next = None"
   ]
  },
  {
   "cell_type": "code",
   "execution_count": null,
   "id": "e4325918-1b8f-4d47-9d0f-1fa9ab8dfc0b",
   "metadata": {},
   "outputs": [],
   "source": [
    "class LinkedList:\n",
    "    def __init__(self):\n",
    "        self.head = None"
   ]
  },
  {
   "cell_type": "code",
   "execution_count": null,
   "id": "e716e237-77a1-4ab8-a176-42b95d93ba87",
   "metadata": {},
   "outputs": [],
   "source": [
    "  def insert_end(self, data):"
   ]
  },
  {
   "cell_type": "code",
   "execution_count": null,
   "id": "3f489f39-cb32-438f-8cd5-d5d741142236",
   "metadata": {},
   "outputs": [],
   "source": [
    "print(f\"Inserted {data} into linked list.\")"
   ]
  },
  {
   "cell_type": "code",
   "execution_count": null,
   "id": "8f8640ab-ae31-4f57-b9dd-79031bac574f",
   "metadata": {},
   "outputs": [],
   "source": [
    "new_node = Node(data)\n",
    "        if not self.head:\n",
    "            self.head = new_node\n",
    "            return\n",
    "        last = self.head\n",
    "        while last.next:\n",
    "            last = last.next\n",
    "        last.next = new_node"
   ]
  },
  {
   "cell_type": "code",
   "execution_count": null,
   "id": "c42f75aa-6ae2-49cf-8ec9-d283b40a2255",
   "metadata": {},
   "outputs": [],
   "source": [
    " def display(self):\n",
    "        temp = self.head"
   ]
  },
  {
   "cell_type": "code",
   "execution_count": null,
   "id": "f5bae60f-fbc6-412e-b433-b7f6a8512edd",
   "metadata": {},
   "outputs": [],
   "source": [
    " print(\"Linked List: \", end='')\n",
    "while temp:"
   ]
  },
  {
   "cell_type": "code",
   "execution_count": null,
   "id": "507e6ca1-f217-4794-8033-ba1bb4c40070",
   "metadata": {},
   "outputs": [],
   "source": [
    " print(temp.data, end=\" -> \")"
   ]
  },
  {
   "cell_type": "code",
   "execution_count": null,
   "id": "935c799c-5aa7-4854-a6d6-05261d725f81",
   "metadata": {},
   "outputs": [],
   "source": [
    "temp = temp.next\n",
    "        print(\"None\")"
   ]
  },
  {
   "cell_type": "code",
   "execution_count": null,
   "id": "7e9b2476-64bb-4b18-b8ac-bdbbcffcb99c",
   "metadata": {},
   "outputs": [],
   "source": [
    "def bubble_sort(arr):\n",
    "    print(f\"Original Array: {arr}\")"
   ]
  },
  {
   "cell_type": "code",
   "execution_count": null,
   "id": "397666a8-bd42-4b58-89ab-88bf3816a32a",
   "metadata": {},
   "outputs": [],
   "source": [
    "n = len(arr)\n",
    "    for i in range(n):\n",
    "        for j in range(0, n-i-1):\n",
    "            if arr[j] > arr[j+1]:"
   ]
  },
  {
   "cell_type": "code",
   "execution_count": null,
   "id": "8048ba6a-543c-4b35-9abc-44217b49e8b7",
   "metadata": {},
   "outputs": [],
   "source": [
    "  print(f\"Swapped {arr[j]} and {arr[j+1]}\")"
   ]
  },
  {
   "cell_type": "code",
   "execution_count": null,
   "id": "6e7f19b9-227e-4962-8f8b-08cecc8fbf25",
   "metadata": {},
   "outputs": [],
   "source": [
    "arr[j], arr[j+1] = arr[j+1], arr[j]\n",
    "    print(f\"Sorted Array: {arr}\")\n",
    "    return arr"
   ]
  },
  {
   "cell_type": "code",
   "execution_count": null,
   "id": "894d791d-2034-4e60-a9f1-bac6b8475136",
   "metadata": {},
   "outputs": [],
   "source": [
    "def binary_search(arr, target):\n",
    "    print(f\"Searching for {target} in {arr}\")\n",
    "    low = 0\n",
    "    high = len(arr) - 1\n",
    "    while low <= high:\n",
    "        mid = (low + high) // 2\n",
    "        if arr[mid] == target:"
   ]
  },
  {
   "cell_type": "code",
   "execution_count": null,
   "id": "0ca67533-1187-4d41-8056-f23b13724c2c",
   "metadata": {},
   "outputs": [],
   "source": [
    "            print(f\"Found {target} at index {mid}\")"
   ]
  },
  {
   "cell_type": "code",
   "execution_count": null,
   "id": "f06e93f2-9aaf-4854-a7ff-da8a60113235",
   "metadata": {},
   "outputs": [],
   "source": [
    "            return mid\n",
    "        elif arr[mid] < target:\n",
    "            low = mid + 1\n",
    "        else:\n",
    "            high = mid - 1\n",
    "    print(f\"{target} not found.\")\n",
    "    return -1"
   ]
  },
  {
   "cell_type": "code",
   "execution_count": null,
   "id": "1a307c1e-9557-4797-976a-8b2875c908c8",
   "metadata": {},
   "outputs": [],
   "source": [
    "def dfs(graph, node, visited=None):\n",
    "    if visited is None:\n",
    "        visited = set()\n",
    "    if node not in visited:"
   ]
  },
  {
   "cell_type": "code",
   "execution_count": null,
   "id": "43366499-f24f-4cfa-ab0b-4b0f55b0f103",
   "metadata": {},
   "outputs": [],
   "source": [
    "print(node, end=' ')"
   ]
  },
  {
   "cell_type": "code",
   "execution_count": null,
   "id": "2d8d5f33-41cc-4414-af13-56487065d1c2",
   "metadata": {},
   "outputs": [],
   "source": [
    "        visited.add(node)\n",
    "        for neighbor in graph[node]:\n",
    "            dfs(graph, neighbor, visited)"
   ]
  },
  {
   "cell_type": "code",
   "execution_count": null,
   "id": "250e59f4-d822-4854-a409-3288fa2d513a",
   "metadata": {},
   "outputs": [],
   "source": [
    "def menu():\n",
    "    print(\"\\n--- DSA MENU ---\")\n",
    "    print(\"1. Stack Demo\")\n",
    "    print(\"2. Queue Demo\")\n",
    "    print(\"3. Linked List Demo\")\n",
    "    print(\"4. Bubble Sort\")\n",
    "    print(\"5. Binary Search\")\n",
    "    print(\"6. DFS Graph Traversal\")\n",
    "    print(\"0. Exit\")"
   ]
  },
  {
   "cell_type": "code",
   "execution_count": null,
   "id": "f07ff4e2-9137-4e4e-b2e4-42272ab5a9ee",
   "metadata": {},
   "outputs": [],
   "source": [
    "if __name__ == \"__main__\":\n",
    "    while True:\n",
    "        menu()\n",
    "        choice = input(\"Enter choice: \")"
   ]
  },
  {
   "cell_type": "code",
   "execution_count": null,
   "id": "ddbb2539-d88d-4738-845f-51b4dd023ae6",
   "metadata": {},
   "outputs": [],
   "source": [
    " print(\"DFS Traversal:\")\n",
    "            dfs(graph, 'A')\n",
    "            print()"
   ]
  },
  {
   "cell_type": "code",
   "execution_count": null,
   "id": "f06a3c4a-30b3-4454-824b-c9c469cade13",
   "metadata": {},
   "outputs": [],
   "source": [
    "  elif choice == '0':\n",
    "            print(\"Exiting...\")\n",
    "            break"
   ]
  },
  {
   "cell_type": "code",
   "execution_count": null,
   "id": "3dbd76b4-47c7-41ee-bf3f-85726e1be700",
   "metadata": {},
   "outputs": [],
   "source": [
    " else:\n",
    "            print(\"❌ Invalid choice. Try again.\")"
   ]
  },
  {
   "cell_type": "code",
   "execution_count": null,
   "id": "f818a967-a1a6-4b9e-b8c4-e2afd6500ad7",
   "metadata": {},
   "outputs": [],
   "source": []
  }
 ],
 "metadata": {
  "kernelspec": {
   "display_name": "Python [conda env:base] *",
   "language": "python",
   "name": "conda-base-py"
  },
  "language_info": {
   "codemirror_mode": {
    "name": "ipython",
    "version": 3
   },
   "file_extension": ".py",
   "mimetype": "text/x-python",
   "name": "python",
   "nbconvert_exporter": "python",
   "pygments_lexer": "ipython3",
   "version": "3.13.5"
  }
 },
 "nbformat": 4,
 "nbformat_minor": 5
}
