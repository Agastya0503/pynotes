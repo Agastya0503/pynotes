{
 "cells": [
  {
   "cell_type": "code",
   "execution_count": null,
   "id": "eec33629-eea2-44f6-973b-df2878ba6315",
   "metadata": {},
   "outputs": [],
   "source": [
    "#21072025"
   ]
  },
  {
   "cell_type": "code",
   "execution_count": null,
   "id": "bd61dd77-843c-447f-a4f1-11342b8f0206",
   "metadata": {},
   "outputs": [],
   "source": [
    "from typing import List, Optional"
   ]
  },
  {
   "cell_type": "code",
   "execution_count": null,
   "id": "b3c5156a-2709-43b0-82a8-436bf4f73dee",
   "metadata": {},
   "outputs": [],
   "source": [
    "def linear_search(arr: List[int], target: int) -> int:\n",
    "    for i, val in enumerate(arr):\n",
    "        if val == target:\n",
    "            return i\n",
    "    return -1"
   ]
  },
  {
   "cell_type": "code",
   "execution_count": null,
   "id": "c4992cb6-2099-4dc7-bc59-3833be481a36",
   "metadata": {},
   "outputs": [],
   "source": [
    "def binary_search(arr: List[int], target: int) -> int:\n",
    "    low, high = 0, len(arr) - 1\n",
    "    while low <= high:\n",
    "        mid = (low + high) // 2"
   ]
  },
  {
   "cell_type": "code",
   "execution_count": null,
   "id": "371a6bf9-5265-428f-821c-7e8cda23f66e",
   "metadata": {},
   "outputs": [],
   "source": [
    "  if arr[mid] == target:\n",
    "            return mid"
   ]
  },
  {
   "cell_type": "code",
   "execution_count": null,
   "id": "95116ae7-18de-43a6-8173-42a5c07386d6",
   "metadata": {},
   "outputs": [],
   "source": [
    "elif arr[mid] < target:\n",
    "            low = mid + 1"
   ]
  },
  {
   "cell_type": "code",
   "execution_count": null,
   "id": "f60c38c8-274a-436d-b456-70ae1ec3b083",
   "metadata": {},
   "outputs": [],
   "source": [
    "else:\n",
    "            high = mid - 1\n",
    "    return -1"
   ]
  },
  {
   "cell_type": "code",
   "execution_count": null,
   "id": "4eee95a6-6e96-444d-85ba-b3b6e20320b9",
   "metadata": {},
   "outputs": [],
   "source": [
    "def bubble_sort(arr: List[int]) -> List[int]:\n",
    "    n = len(arr)"
   ]
  },
  {
   "cell_type": "code",
   "execution_count": null,
   "id": "bb1e5419-1584-4f0b-9ac4-73492016c7e9",
   "metadata": {},
   "outputs": [],
   "source": [
    "for i in range(n):\n",
    "        for j in range(n - i - 1):"
   ]
  },
  {
   "cell_type": "code",
   "execution_count": null,
   "id": "44fde0fa-45d6-424d-a7c6-b087946fe8c2",
   "metadata": {},
   "outputs": [],
   "source": [
    "if arr[j] > arr[j + 1]:\n",
    "                arr[j], arr[j + 1] = arr[j + 1], arr[j]\n",
    "    return arr"
   ]
  },
  {
   "cell_type": "code",
   "execution_count": null,
   "id": "cf9e44d2-f500-4ea3-8543-475735e19a34",
   "metadata": {},
   "outputs": [],
   "source": [
    "def quick_sort(arr: List[int]) -> List[int]:\n",
    "    if len(arr) <= 1:\n",
    "        return arr"
   ]
  },
  {
   "cell_type": "code",
   "execution_count": null,
   "id": "aba06891-87f5-477d-9458-0ffe46c91cdc",
   "metadata": {},
   "outputs": [],
   "source": [
    " pivot = arr[0]\n",
    "    left = quick_sort([x for x in arr[1:] if x <= pivot])\n",
    "    right = quick_sort([x for x in arr[1:] if x > pivot])\n",
    "    return left + [pivot] + right"
   ]
  },
  {
   "cell_type": "code",
   "execution_count": null,
   "id": "c0afc0f2-ee17-470f-96e0-b8736fc3feda",
   "metadata": {},
   "outputs": [],
   "source": [
    "class Node:\n",
    "    def __init__(self, data: int):\n",
    "        self.data = data\n",
    "        self.next: Optional['Node'] = None"
   ]
  },
  {
   "cell_type": "code",
   "execution_count": null,
   "id": "a7122ac2-e81c-4721-9658-0425bba42208",
   "metadata": {},
   "outputs": [],
   "source": [
    "class LinkedList:\n",
    "    def __init__(self):\n",
    "        self.head: Optional[Node] = None"
   ]
  },
  {
   "cell_type": "code",
   "execution_count": null,
   "id": "feccba86-fcf8-49b6-9c99-66299762e292",
   "metadata": {},
   "outputs": [],
   "source": [
    "def append(self, data: int):\n",
    "        new_node = Node(data)"
   ]
  },
  {
   "cell_type": "code",
   "execution_count": null,
   "id": "b98cecbd-f7ad-4860-ad18-ca647dfa36c7",
   "metadata": {},
   "outputs": [],
   "source": [
    "if not self.head:\n",
    "            self.head = new_node\n",
    "    return"
   ]
  },
  {
   "cell_type": "code",
   "execution_count": null,
   "id": "07ffc043-c8ed-4e27-becd-31869f95c110",
   "metadata": {},
   "outputs": [],
   "source": [
    "temp = self.head\n",
    "        while temp.next:\n",
    "            temp = temp.next\n",
    "        temp.next = new_node"
   ]
  },
  {
   "cell_type": "code",
   "execution_count": null,
   "id": "697349f1-2a06-49ac-ac36-10dc77ede00e",
   "metadata": {},
   "outputs": [],
   "source": [
    "def display(self):\n",
    "        elems = []\n",
    "        temp = self.head\n",
    "        while temp:"
   ]
  },
  {
   "cell_type": "code",
   "execution_count": null,
   "id": "e54e2d5c-883b-4dd9-8f8b-d1cec5946d33",
   "metadata": {},
   "outputs": [],
   "source": [
    " elems.append(str(temp.data))\n",
    "            temp = temp.next\n",
    "        print(\" -> \".join(elems))"
   ]
  },
  {
   "cell_type": "code",
   "execution_count": null,
   "id": "3293efe3-63c7-44e4-a0d2-3671ce9a27fb",
   "metadata": {},
   "outputs": [],
   "source": [
    " def search(self, key: int) -> bool:\n",
    "        temp = self.head\n",
    "        while temp:"
   ]
  },
  {
   "cell_type": "code",
   "execution_count": null,
   "id": "02150dce-27ab-4dae-b1fa-1b307a9b0184",
   "metadata": {},
   "outputs": [],
   "source": [
    "  if temp.data == key:\n",
    "                return True"
   ]
  },
  {
   "cell_type": "code",
   "execution_count": null,
   "id": "fb60e9b3-0d61-4512-a73c-11a6485b2c5d",
   "metadata": {},
   "outputs": [],
   "source": [
    " temp = temp.next\n",
    "        return False"
   ]
  }
 ],
 "metadata": {
  "kernelspec": {
   "display_name": "Python [conda env:base] *",
   "language": "python",
   "name": "conda-base-py"
  },
  "language_info": {
   "codemirror_mode": {
    "name": "ipython",
    "version": 3
   },
   "file_extension": ".py",
   "mimetype": "text/x-python",
   "name": "python",
   "nbconvert_exporter": "python",
   "pygments_lexer": "ipython3",
   "version": "3.13.5"
  }
 },
 "nbformat": 4,
 "nbformat_minor": 5
}
