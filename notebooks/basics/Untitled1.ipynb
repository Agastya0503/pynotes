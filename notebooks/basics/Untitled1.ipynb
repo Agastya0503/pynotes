{
 "cells": [
  {
   "cell_type": "code",
   "execution_count": null,
   "id": "ed783f0e-c819-46f2-a104-f491d13d20d0",
   "metadata": {},
   "outputs": [],
   "source": [
    "#21072025"
   ]
  },
  {
   "cell_type": "code",
   "execution_count": null,
   "id": "a36dc177-bd64-4a4c-a8ff-6ebc23e576fb",
   "metadata": {},
   "outputs": [],
   "source": [
    "class Node:\n",
    "    def __init__(self, data):\n",
    "        self.data = data\n",
    "        self.next = None"
   ]
  },
  {
   "cell_type": "code",
   "execution_count": null,
   "id": "b364ecb3-d61c-4026-b75e-be3d484aa669",
   "metadata": {},
   "outputs": [],
   "source": [
    "class LinkedList:\n",
    "    def __init__(self):\n",
    "        self.head = None"
   ]
  },
  {
   "cell_type": "code",
   "execution_count": null,
   "id": "53e6c30c-beb1-421f-8720-acd7ed32c0e2",
   "metadata": {},
   "outputs": [],
   "source": [
    "def insert_at_beginning(self, data):\n",
    "        print(f\"Inserting {data} at the beginning\")\n",
    "        new_node = Node(data)\n",
    "        new_node.next = self.head\n",
    "        self.head = new_node\n",
    "        self.display()"
   ]
  },
  {
   "cell_type": "code",
   "execution_count": null,
   "id": "91d4e24c-9059-4d5c-b82c-affc28fea4d0",
   "metadata": {},
   "outputs": [],
   "source": [
    " def insert_at_end(self, data):\n",
    "        print(f\"Inserting {data} at the end\")\n",
    "        new_node = Node(data)\n",
    "        if self.head is None:\n",
    "            self.head = new_node\n",
    "            self.display()\n",
    "            return"
   ]
  },
  {
   "cell_type": "code",
   "execution_count": null,
   "id": "b6bba4d9-8bb3-48a7-a8ab-a776b691b526",
   "metadata": {},
   "outputs": [],
   "source": [
    "current = self.head\n",
    "        while current.next:\n",
    "            current = current.next\n",
    "        current.next = new_node\n",
    "        self.display()"
   ]
  },
  {
   "cell_type": "code",
   "execution_count": null,
   "id": "d190eb5f-b38f-4a38-897d-4731d3156eb8",
   "metadata": {},
   "outputs": [],
   "source": [
    "def delete_node(self, key):\n",
    "        print(f\"Deleting node with value {key}\")\n",
    "        current = self.head"
   ]
  },
  {
   "cell_type": "code",
   "execution_count": null,
   "id": "0ff247f7-16c3-4ba3-8611-40547fdc1a7d",
   "metadata": {},
   "outputs": [],
   "source": [
    "if current is not None and current.data == key:\n",
    "            self.head = current.next\n",
    "            print(f\"Deleted head node {key}\")\n",
    "            self.display()\n",
    "            return"
   ]
  },
  {
   "cell_type": "code",
   "execution_count": null,
   "id": "c1264d6e-459f-4d6e-8bac-fd06d02a1f51",
   "metadata": {},
   "outputs": [],
   "source": [
    "prev = None\n",
    "        while current is not None and current.data != key:\n",
    "            prev = current\n",
    "            current = current.next"
   ]
  },
  {
   "cell_type": "code",
   "execution_count": null,
   "id": "5cc23b47-b192-4380-86f0-cc254b822b18",
   "metadata": {},
   "outputs": [],
   "source": [
    "if current is None:\n",
    "            print(\"Node not found.\")\n",
    "            return"
   ]
  },
  {
   "cell_type": "code",
   "execution_count": null,
   "id": "7780486a-e48b-4085-ad79-0139a40b1191",
   "metadata": {},
   "outputs": [],
   "source": [
    " prev.next = current.next\n",
    "        print(f\"Deleted node {key}\")\n",
    "        self.display()"
   ]
  },
  {
   "cell_type": "code",
   "execution_count": null,
   "id": "9f51e607-2278-46ea-a2b7-283427840028",
   "metadata": {},
   "outputs": [],
   "source": [
    "def search(self, key):\n",
    "        print(f\"Searching for {key} in the list\")\n",
    "        current = self.head\n",
    "        index = 0\n",
    "        while current:"
   ]
  },
  {
   "cell_type": "code",
   "execution_count": null,
   "id": "78942986-fdc3-4c60-935f-a4a47b3a54a4",
   "metadata": {},
   "outputs": [],
   "source": [
    "print(f\"Checking node at index {index} with value {current.data}\")\n",
    "            if current.data == key:\n",
    "                print(f\"Found {key} at index {index}\")\n",
    "                return index\n",
    "            current = current.next"
   ]
  },
  {
   "cell_type": "code",
   "execution_count": null,
   "id": "dbee9530-a41f-42b0-8297-2c6d463a2adb",
   "metadata": {},
   "outputs": [],
   "source": [
    "index += 1\n",
    "        print(f\"{key} not found in the list\")\n",
    "        return -1"
   ]
  },
  {
   "cell_type": "code",
   "execution_count": null,
   "id": "8460c2e1-6cfb-4225-b4b0-acd22ab32e11",
   "metadata": {},
   "outputs": [],
   "source": [
    " def reverse(self):\n",
    "        print(\"Reversing the linked list\")\n",
    "        prev = None\n",
    "        current = self.head\n",
    "        while current:"
   ]
  },
  {
   "cell_type": "code",
   "execution_count": null,
   "id": "d1784fd4-c06a-4134-89eb-bbe74265057f",
   "metadata": {},
   "outputs": [],
   "source": [
    "next_node = current.next\n",
    "            current.next = prev\n",
    "            prev = current\n",
    "            current = next_node\n",
    "        self.head = prev\n",
    "        print(\"Linked list reversed\")\n",
    "        self.display()"
   ]
  },
  {
   "cell_type": "code",
   "execution_count": null,
   "id": "d9ea2636-e367-426f-8a9d-93d4d71a964b",
   "metadata": {},
   "outputs": [],
   "source": [
    "def display(self):\n",
    "        current = self.head\n",
    "        values = []\n",
    "        while current:\n",
    "            values.append(str(current.data))\n",
    "            current = current.next\n",
    "        print(\"Linked List:\", \" -> \".join(values) if values else \"Empty\")"
   ]
  },
  {
   "cell_type": "code",
   "execution_count": null,
   "id": "f8bc50b8-af71-4957-83de-902f02933c1b",
   "metadata": {},
   "outputs": [],
   "source": [
    "def menu():\n",
    "    ll = LinkedList()\n",
    "    while True:\n",
    "        print(\"\\nLinked List Operations Menu\")\n",
    "        print(\"1. Insert at beginning\")\n",
    "        print(\"2. Insert at end\")\n",
    "        print(\"3. Delete a node\")\n",
    "        print(\"4. Search for a value\")\n",
    "        print(\"5. Reverse the list\")\n",
    "        print(\"6. Display list\")\n",
    "        print(\"7. Exit\")"
   ]
  },
  {
   "cell_type": "code",
   "execution_count": null,
   "id": "60ebc7cf-dd14-4789-94bf-b6e5df84c82f",
   "metadata": {},
   "outputs": [],
   "source": [
    " choice = input(\"Enter your choice: \")\n",
    "\n",
    "        if choice == '1':\n",
    "            data = int(input(\"Enter value to insert at beginning: \"))\n",
    "            ll.insert_at_beginning(data)"
   ]
  },
  {
   "cell_type": "code",
   "execution_count": null,
   "id": "fbc39a3a-f31b-4161-a6db-347f76bd9c02",
   "metadata": {},
   "outputs": [],
   "source": [
    "elif choice == '2':\n",
    "            data = int(input(\"Enter value to insert at end: \"))\n",
    "            ll.insert_at_end(data)"
   ]
  },
  {
   "cell_type": "code",
   "execution_count": null,
   "id": "0f2550db-7443-47b7-a297-aac62327e2f8",
   "metadata": {},
   "outputs": [],
   "source": [
    "elif choice == '3':\n",
    "            key = int(input(\"Enter value to delete: \"))\n",
    "            ll.delete_node(key)"
   ]
  },
  {
   "cell_type": "code",
   "execution_count": null,
   "id": "305edf5f-8e0e-4dc2-849d-5445f7486e85",
   "metadata": {},
   "outputs": [],
   "source": [
    " elif choice == '4':\n",
    "            key = int(input(\"Enter value to search: \"))\n",
    "            ll.search(key)"
   ]
  },
  {
   "cell_type": "code",
   "execution_count": null,
   "id": "a36e1b83-d4cd-420c-9049-e7014a17482f",
   "metadata": {},
   "outputs": [],
   "source": [
    " elif choice == '5':\n",
    "            ll.reverse()\n",
    "        elif choice == '6':\n",
    "            ll.display()\n",
    "        elif choice == '7':"
   ]
  },
  {
   "cell_type": "code",
   "execution_count": null,
   "id": "56e841e5-f7bc-4aa6-b931-4bc638518834",
   "metadata": {},
   "outputs": [],
   "source": [
    " print(\"Exiting program.\")\n",
    "            break\n",
    "        else:\n",
    "            print(\"Invalid choice. Try again.\")"
   ]
  },
  {
   "cell_type": "code",
   "execution_count": null,
   "id": "d5bab717-06c1-4499-a03c-a6c21da24aaf",
   "metadata": {},
   "outputs": [],
   "source": [
    "if __name__ == \"__main__\":\n",
    "    menu()"
   ]
  }
 ],
 "metadata": {
  "kernelspec": {
   "display_name": "Python [conda env:py312]",
   "language": "python",
   "name": "conda-env-py312-py"
  },
  "language_info": {
   "codemirror_mode": {
    "name": "ipython",
    "version": 3
   },
   "file_extension": ".py",
   "mimetype": "text/x-python",
   "name": "python",
   "nbconvert_exporter": "python",
   "pygments_lexer": "ipython3",
   "version": "3.12.11"
  }
 },
 "nbformat": 4,
 "nbformat_minor": 5
}
