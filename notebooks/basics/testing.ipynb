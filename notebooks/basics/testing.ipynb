{
 "cells": [
  {
   "cell_type": "code",
   "execution_count": 1,
   "id": "7dca51db-4aff-4484-9977-803a4cd10c41",
   "metadata": {},
   "outputs": [
    {
     "name": "stdout",
     "output_type": "stream",
     "text": [
      "1 plus 2 equals 3\n",
      "3 plus 4 equals 7\n",
      "4 plus 5 equals 9\n"
     ]
    }
   ],
   "source": [
    "#20072025"
   ]
  },
  {
   "cell_type": "code",
   "execution_count": 1,
   "id": "4d2a7f9d-5349-4163-ba69-581d28f9c999",
   "metadata": {},
   "outputs": [
    {
     "name": "stdin",
     "output_type": "stream",
     "text": [
      "enter a number:  3\n"
     ]
    },
    {
     "name": "stdout",
     "output_type": "stream",
     "text": [
      "factorial: 6\n"
     ]
    }
   ],
   "source": [
    "number_pairs = [(1, 2), (3, 4), (4, 5), (10, 20), (7, 13), (15, 2"
   ]
  },
  {
   "cell_type": "code",
   "execution_count": 2,
   "id": "3480e9e2-12e8-44f6-8ba6-75147cafcd03",
   "metadata": {},
   "outputs": [
    {
     "name": "stdin",
     "output_type": "stream",
     "text": [
      "enter a number 5\n"
     ]
    },
    {
     "name": "stdout",
     "output_type": "stream",
     "text": [
      "5 x 1 = 5\n",
      "5 x 2 = 10\n",
      "5 x 3 = 15\n",
      "5 x 4 = 20\n",
      "5 x 5 = 25\n",
      "5 x 6 = 30\n",
      "5 x 7 = 35\n",
      "5 x 8 = 40\n",
      "5 x 9 = 45\n",
      "5 x 10 = 50\n"
     ]
    }
   ],
   "source": [
    "number = int(input(\"enter a number\"))\n",
    "for i in range(1,11):\n",
    "    answer = number * i\n",
    "    print(f\"{number} x {i} = {answer}\")"
   ]
  },
  {
   "cell_type": "code",
   "execution_count": 3,
   "id": "f975b685-2f2b-483d-aa35-78dc426422b8",
   "metadata": {},
   "outputs": [
    {
     "name": "stdout",
     "output_type": "stream",
     "text": [
      "sum: 10\n",
      "sum: 30\n",
      "sum: 60\n",
      "sum: 100\n"
     ]
    }
   ],
   "source": [
    "numbers = [10,20,30,40]\n",
    "total = 0\n",
    "for i in numbers:\n",
    "    total = total + i\n",
    "    print(\"sum:\", total)"
   ]
  },
  {
   "cell_type": "code",
   "execution_count": 4,
   "id": "2643b452-c535-40f0-ba41-19bf075eb386",
   "metadata": {},
   "outputs": [
    {
     "name": "stdout",
     "output_type": "stream",
     "text": [
      "Number of vowels: 2\n"
     ]
    }
   ],
   "source": [
    "text = \"Aku\"\n",
    "vowels = \"aeiouAEIOU\"\n",
    "count = 0\n",
    "\n",
    "for char in text:\n",
    "    if char in vowels:\n",
    "        count += 1\n",
    "\n",
    "print(f\"Number of vowels: {count}\")"
   ]
  },
  {
   "cell_type": "code",
   "execution_count": 5,
   "id": "bf139334-4aba-47ac-b52b-3b1d81d13f26",
   "metadata": {},
   "outputs": [
    {
     "name": "stdin",
     "output_type": "stream",
     "text": [
      "enter your email: aku05.com\n"
     ]
    },
    {
     "name": "stdout",
     "output_type": "stream",
     "text": [
      "Invalid email format\n"
     ]
    }
   ],
   "source": [
    "email = input(\"enter your email:\")\n",
    "\n",
    "if \"@\" in email and \".\" in email and email.index('@') < email.rindex('.'):\n",
    "    print(\"Valid email format\")\n",
    "else:\n",
    "    print(\"Invalid email format\")"
   ]
  },
  {
   "cell_type": "code",
   "execution_count": 6,
   "id": "0bfd0d6e-ed27-4406-ba93-969013102003",
   "metadata": {},
   "outputs": [
    {
     "name": "stdin",
     "output_type": "stream",
     "text": [
      "enter a numbre 5\n"
     ]
    },
    {
     "name": "stdout",
     "output_type": "stream",
     "text": [
      "number is not divisible by 3 and 5\n"
     ]
    }
   ],
   "source": [
    "num = int(input(\"enter a numbre\"))\n",
    "if num%3 == 0 and num%5 == 0:\n",
    "    print(\"number is divisible by 3 and 5\")\n",
    "else:\n",
    "    print(\"number is not divisible by 3 and 5\")"
   ]
  },
  {
   "cell_type": "code",
   "execution_count": null,
   "id": "f02b41dd-0f0b-4e74-b9ab-529749c41029",
   "metadata": {},
   "outputs": [],
   "source": []
  }
 ],
 "metadata": {
  "kernelspec": {
   "display_name": "Python [conda env:base] *",
   "language": "python",
   "name": "conda-base-py"
  },
  "language_info": {
   "codemirror_mode": {
    "name": "ipython",
    "version": 3
   },
   "file_extension": ".py",
   "mimetype": "text/x-python",
   "name": "python",
   "nbconvert_exporter": "python",
   "pygments_lexer": "ipython3",
   "version": "3.13.5"
  }
 },
 "nbformat": 4,
 "nbformat_minor": 5
}
