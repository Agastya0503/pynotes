{
 "cells": [
  {
   "cell_type": "code",
   "execution_count": null,
   "id": "9b885aa2-0ea8-4d59-b657-258e794fc55e",
   "metadata": {},
   "outputs": [],
   "source": [
    "#21072025"
   ]
  },
  {
   "cell_type": "code",
   "execution_count": null,
   "id": "fa655b27-9e83-43d4-b054-d274af8c0f76",
   "metadata": {},
   "outputs": [],
   "source": [
    "import os\n",
    "\n",
    "def list_files(directory: str):\n",
    "    print(f\"\\n Listing all files in: {directory}\")"
   ]
  },
  {
   "cell_type": "code",
   "execution_count": null,
   "id": "f97cd8ea-5bfc-4ab5-b43b-04f09d2be321",
   "metadata": {},
   "outputs": [],
   "source": [
    " try:\n",
    "        files = os.listdir(directory)\n",
    "        if not files:"
   ]
  },
  {
   "cell_type": "code",
   "execution_count": null,
   "id": "45513f32-9ae9-4477-bf9e-87610640fde3",
   "metadata": {},
   "outputs": [],
   "source": [
    "print(\" No files found.\")"
   ]
  },
  {
   "cell_type": "code",
   "execution_count": null,
   "id": "24058b20-9862-466d-b9f6-7146451f0d2d",
   "metadata": {},
   "outputs": [],
   "source": [
    "return []\n",
    "        print(\"Files:\")"
   ]
  },
  {
   "cell_type": "code",
   "execution_count": null,
   "id": "ae5b93bc-4246-43e9-8fa9-9d042691da10",
   "metadata": {},
   "outputs": [],
   "source": [
    " for idx, file in enumerate(files):\n",
    "            print(f\"{idx + 1}. {file}\")"
   ]
  },
  {
   "cell_type": "code",
   "execution_count": null,
   "id": "2ab01a6b-59d6-42a2-be4d-f6df0a7a34e0",
   "metadata": {},
   "outputs": [],
   "source": [
    " return files\n",
    "    except FileNotFoundError:"
   ]
  },
  {
   "cell_type": "code",
   "execution_count": null,
   "id": "1d64c8ba-2b21-41f5-81fe-e13cfa67044a",
   "metadata": {},
   "outputs": [],
   "source": [
    " print(\"Error: The specified directory does not exist.\")\n",
    "        return []"
   ]
  },
  {
   "cell_type": "code",
   "execution_count": null,
   "id": "e111e3ec-8ead-4d2a-9384-9c031c4c2a91",
   "metadata": {},
   "outputs": [],
   "source": [
    "def read_file(filepath: str):\n",
    "    print(f\"\\nReading file: {filepath}\")"
   ]
  },
  {
   "cell_type": "code",
   "execution_count": null,
   "id": "81f58383-a989-4b02-b507-5ce311b911c9",
   "metadata": {},
   "outputs": [],
   "source": [
    " try:\n",
    "        with open(filepath, 'r', encoding='utf-8') as f:\n",
    "            content = f.read()"
   ]
  },
  {
   "cell_type": "code",
   "execution_count": null,
   "id": "a4d21c60-4210-4388-9c69-3bd59cb98a1e",
   "metadata": {},
   "outputs": [],
   "source": [
    "print(\"File opened successfully.\")\n",
    "            print(\"\\n--- Start of File ---\")\n",
    "            print(content[:500])  # Print first 500 characters\n",
    "            print(\"--- End of Preview ---\")"
   ]
  },
  {
   "cell_type": "code",
   "execution_count": null,
   "id": "9a0ed710-f849-4da7-9f9c-b97f07bfc0a0",
   "metadata": {},
   "outputs": [],
   "source": [
    "return content\n",
    "    except FileNotFoundError:"
   ]
  },
  {
   "cell_type": "code",
   "execution_count": null,
   "id": "db0b66cf-f590-4fb1-91f5-8edee7cbab64",
   "metadata": {},
   "outputs": [],
   "source": [
    "print(\"Error: File not found.\")"
   ]
  },
  {
   "cell_type": "code",
   "execution_count": null,
   "id": "30c1dcd5-5c60-4317-ad0f-2a0e6e791837",
   "metadata": {},
   "outputs": [],
   "source": [
    "return \"\"\n",
    "    except UnicodeDecodeError:"
   ]
  },
  {
   "cell_type": "code",
   "execution_count": null,
   "id": "57f44f68-4192-489c-9650-a1e2d551d9ba",
   "metadata": {},
   "outputs": [],
   "source": [
    "print(\"Error: File is not a readable text file.\")\n",
    "return \"\""
   ]
  },
  {
   "cell_type": "code",
   "execution_count": null,
   "id": "afa6eb40-f829-460b-9738-9a57123760c7",
   "metadata": {},
   "outputs": [],
   "source": [
    "def file_statistics(filepath: str):\n",
    "    print(f\"\\nGetting statistics for: {filepath}\")"
   ]
  },
  {
   "cell_type": "code",
   "execution_count": null,
   "id": "b84b1f3c-7efe-476e-8f75-f8035aa69757",
   "metadata": {},
   "outputs": [],
   "source": [
    "content = read_file(filepath)\n",
    "    if not content:"
   ]
  },
  {
   "cell_type": "code",
   "execution_count": null,
   "id": "69cbf4eb-b90d-497f-852d-a93a2fde702e",
   "metadata": {},
   "outputs": [],
   "source": [
    "  print(\"No content to analyze.\")\n",
    "        return"
   ]
  },
  {
   "cell_type": "code",
   "execution_count": null,
   "id": "746e7149-4133-4379-8516-6a1e1ac24a95",
   "metadata": {},
   "outputs": [],
   "source": [
    " words = content.split()\n",
    "    lines = content.splitlines()"
   ]
  },
  {
   "cell_type": "code",
   "execution_count": null,
   "id": "924d6e59-55db-4f68-a524-64e6bc9ce619",
   "metadata": {},
   "outputs": [],
   "source": [
    "print(f\"Total lines: {len(lines)}\")\n",
    "    print(f\"Total words: {len(words)}\")\n",
    "    print(f\"Total characters: {len(content)}\")"
   ]
  },
  {
   "cell_type": "code",
   "execution_count": null,
   "id": "1432d900-72b2-448b-95b3-bdebc61ee853",
   "metadata": {},
   "outputs": [],
   "source": [
    "def search_word(filepath: str, word: str):\n",
    "    print(f\"\\nSearching for '{word}' in {filepath}\")"
   ]
  },
  {
   "cell_type": "code",
   "execution_count": null,
   "id": "a29d83a6-cfe0-43c5-a813-c4c01c1f296c",
   "metadata": {},
   "outputs": [],
   "source": [
    "content = read_file(filepath)\n",
    "    if not content:"
   ]
  },
  {
   "cell_type": "code",
   "execution_count": null,
   "id": "92521fde-c5bd-4553-b00d-cbe621b9bfeb",
   "metadata": {},
   "outputs": [],
   "source": [
    " print(\"No content available to search.\")\n",
    "        return"
   ]
  },
  {
   "cell_type": "code",
   "execution_count": null,
   "id": "3c707785-811d-4251-8c70-64fe27c6d042",
   "metadata": {},
   "outputs": [],
   "source": [
    "lines = content.splitlines()\n",
    "    found = False"
   ]
  },
  {
   "cell_type": "code",
   "execution_count": null,
   "id": "2773821a-12f7-4a9e-b5ee-d25c1b74d813",
   "metadata": {},
   "outputs": [],
   "source": [
    "for i, line in enumerate(lines):\n",
    "        if word in line:"
   ]
  },
  {
   "cell_type": "code",
   "execution_count": null,
   "id": "6c2b8ca8-d73a-4861-8f6e-132c41774cc1",
   "metadata": {},
   "outputs": [],
   "source": [
    " print(f\"Found in line {i + 1}: {line.strip()}\")\n",
    "            found = True"
   ]
  },
  {
   "cell_type": "code",
   "execution_count": null,
   "id": "9d0b8b29-068e-4a4d-bc85-c108c6b7c311",
   "metadata": {},
   "outputs": [],
   "source": [
    "if not found:\n",
    "        print(f\"The word '{word}' was not found in the file.\")"
   ]
  },
  {
   "cell_type": "code",
   "execution_count": null,
   "id": "18c3e708-deaa-4c3c-ae5e-c76371702244",
   "metadata": {},
   "outputs": [],
   "source": [
    "def file_manager_menu():\n",
    "    while True:"
   ]
  },
  {
   "cell_type": "code",
   "execution_count": null,
   "id": "56efe642-ef2c-40eb-8534-dabd9172d5a5",
   "metadata": {},
   "outputs": [],
   "source": [
    "print(\"\\n=== File Manager CLI ===\")\n",
    "        print(\"1. List files in a directory\")\n",
    "        print(\"2. Read a file\")\n",
    "        print(\"3. Show file statistics\")\n",
    "        print(\"4. Search for a word in a file\")\n",
    "        print(\"0. Exit\")"
   ]
  },
  {
   "cell_type": "code",
   "execution_count": null,
   "id": "ca8d0c06-4dde-4f91-a10c-cae3c191cbcb",
   "metadata": {},
   "outputs": [],
   "source": [
    "choice = input(\"Enter your choice: \")"
   ]
  },
  {
   "cell_type": "code",
   "execution_count": null,
   "id": "ebdad56e-eb03-49a8-914c-d82e8e53971b",
   "metadata": {},
   "outputs": [],
   "source": [
    "if choice == '1':\n",
    "            dir_path = input(\"Enter directory path: \")\n",
    "            list_files(dir_path)"
   ]
  },
  {
   "cell_type": "code",
   "execution_count": null,
   "id": "6f06a0df-2684-4d4c-a3cd-e231367d218d",
   "metadata": {},
   "outputs": [],
   "source": [
    "elif choice == '2':\n",
    "            file_path = input(\"Enter full file path: \")\n",
    "            read_file(file_path)"
   ]
  },
  {
   "cell_type": "code",
   "execution_count": null,
   "id": "2993ec9d-0812-45cc-a6dc-027d7f78209c",
   "metadata": {},
   "outputs": [],
   "source": [
    "elif choice == '3':\n",
    "            file_path = input(\"Enter full file path: \")\n",
    "            file_statistics(file_path)"
   ]
  },
  {
   "cell_type": "code",
   "execution_count": null,
   "id": "a811913a-7356-4475-84da-6749358f5d03",
   "metadata": {},
   "outputs": [],
   "source": [
    "elif choice == '4':\n",
    "            file_path = input(\"Enter full file path: \")\n",
    "            word = input(\"Enter the word to search for: \")\n",
    "            search_word(file_path, word)"
   ]
  },
  {
   "cell_type": "code",
   "execution_count": null,
   "id": "afedff03-b5ec-485d-b453-df1611219895",
   "metadata": {},
   "outputs": [],
   "source": [
    "elif choice == '0':\n",
    "            print(\"Exiting File Manager.\")"
   ]
  },
  {
   "cell_type": "code",
   "execution_count": null,
   "id": "a883c69c-a34b-4c20-945a-fef0919538bd",
   "metadata": {},
   "outputs": [],
   "source": [
    " break"
   ]
  },
  {
   "cell_type": "code",
   "execution_count": null,
   "id": "f214de3a-41a5-4421-8a0d-21fd20622ce7",
   "metadata": {},
   "outputs": [],
   "source": [
    " else:\n",
    "            print(\"Invalid option. Please try again.\")"
   ]
  },
  {
   "cell_type": "code",
   "execution_count": null,
   "id": "f808ce29-db88-4e7a-a914-018e2757afd1",
   "metadata": {},
   "outputs": [],
   "source": [
    "if __name__ == \"__main__\":\n",
    "    file_manager_menu()"
   ]
  }
 ],
 "metadata": {
  "kernelspec": {
   "display_name": "Python [conda env:py312]",
   "language": "python",
   "name": "conda-env-py312-py"
  },
  "language_info": {
   "codemirror_mode": {
    "name": "ipython",
    "version": 3
   },
   "file_extension": ".py",
   "mimetype": "text/x-python",
   "name": "python",
   "nbconvert_exporter": "python",
   "pygments_lexer": "ipython3",
   "version": "3.12.11"
  }
 },
 "nbformat": 4,
 "nbformat_minor": 5
}
